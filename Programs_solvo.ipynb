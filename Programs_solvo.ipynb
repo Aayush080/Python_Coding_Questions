{
 "cells": [
  {
   "cell_type": "markdown",
   "metadata": {},
   "source": [
    "# Python Program to Check if a Number is Positive, Negative or Zero"
   ]
  },
  {
   "cell_type": "code",
   "execution_count": 17,
   "metadata": {},
   "outputs": [
    {
     "name": "stdout",
     "output_type": "stream",
     "text": [
      "Enter a number:8\n",
      "Enter number is not a number\n"
     ]
    }
   ],
   "source": [
    "# Python Program to Check if a Number is Positive, Negative or Zero\n",
    "\n",
    "#Enter a number to check whether it is Positive,Negative or Zero\n",
    "\n",
    "num=int(input('Enter a number:'))\n",
    "\n",
    "if num<0: \n",
    "    print('Enter number is negative')\n",
    "elif num==0:\n",
    "    print('Enter number is zero')\n",
    "else :\n",
    "    print('Enter number is not a number')"
   ]
  },
  {
   "cell_type": "markdown",
   "metadata": {},
   "source": [
    "# Python Program to Check if a Number is Odd or Even"
   ]
  },
  {
   "cell_type": "code",
   "execution_count": 22,
   "metadata": {},
   "outputs": [
    {
     "name": "stdout",
     "output_type": "stream",
     "text": [
      "Enter a number:886\n",
      "The Number is Even number\n"
     ]
    }
   ],
   "source": [
    "num=int(input('Enter a number:'))\n",
    "if num%2==0:\n",
    "    print('The Number is Even number')\n",
    "else:\n",
    "    print('The Number is Odd number')\n",
    "\n",
    "    "
   ]
  },
  {
   "cell_type": "markdown",
   "metadata": {},
   "source": [
    "# Python Program to Check Leap Year"
   ]
  },
  {
   "cell_type": "code",
   "execution_count": 24,
   "metadata": {},
   "outputs": [
    {
     "name": "stdout",
     "output_type": "stream",
     "text": [
      "Enter the Year: 7889\n",
      "7889 Year is not a Leap Year\n"
     ]
    }
   ],
   "source": [
    "year=int(input('Enter the Year: '))\n",
    "if (year%4==0):\n",
    "    if (year%100==0):\n",
    "        if(year%400==0):\n",
    "            print('{} Year is a Leap Year'.format(year))\n",
    "        else:\n",
    "            print('{} Year is not a Leap Year'.format(year))\n",
    "    else:\n",
    "        print('{} Year is a Leap Year'.format(year))\n",
    "else:\n",
    "     print('{} Year is not a Leap Year'.format(year))\n",
    "        "
   ]
  },
  {
   "cell_type": "markdown",
   "metadata": {},
   "source": [
    "# Python Program to Check Prime Number"
   ]
  },
  {
   "cell_type": "code",
   "execution_count": 28,
   "metadata": {},
   "outputs": [
    {
     "name": "stdout",
     "output_type": "stream",
     "text": [
      "Enter a number :67\n",
      "67 is a prime number\n"
     ]
    }
   ],
   "source": [
    "num= int(input('Enter a number :'))\n",
    "\n",
    "if num>1:\n",
    "    for x in range(2,num):\n",
    "        if (num%x)==0:\n",
    "            print(num,'is not a prime number')\n",
    "            print(i,'times',num//i,'is',num)\n",
    "            break\n",
    "    else:\n",
    "        print(num,'is a prime number')\n",
    "else:\n",
    "    print(num,'is not a prime number')"
   ]
  },
  {
   "cell_type": "markdown",
   "metadata": {},
   "source": [
    "# Python Program to Print all Prime Numbers in an Interval"
   ]
  },
  {
   "cell_type": "code",
   "execution_count": 29,
   "metadata": {},
   "outputs": [
    {
     "name": "stdout",
     "output_type": "stream",
     "text": [
      "Enter lower number: 76\n",
      "Enter upper number: 90\n",
      "79\n",
      "83\n",
      "89\n"
     ]
    }
   ],
   "source": [
    "lower=int(input('Enter lower number: '))\n",
    "upper=int(input('Enter upper number: '))\n",
    "\n",
    "for num in range(lower,upper+1):\n",
    "    if num>1:\n",
    "        for i in range(2,num):\n",
    "            if (num%i)==0:\n",
    "                break\n",
    "        else:\n",
    "            print(num)\n",
    "            \n",
    "\n",
    "            \n",
    "    "
   ]
  },
  {
   "cell_type": "markdown",
   "metadata": {},
   "source": [
    "# Python Program to Find the Factorial of a Number"
   ]
  },
  {
   "cell_type": "code",
   "execution_count": 31,
   "metadata": {},
   "outputs": [
    {
     "name": "stdout",
     "output_type": "stream",
     "text": [
      "Enter a number:5\n",
      "Factorial of a number is 5 is 120\n"
     ]
    }
   ],
   "source": [
    "num=int(input('Enter a number:'))\n",
    "factorial=1\n",
    "if num<0:\n",
    "    print('Factorial do not exist for',num)\n",
    "elif num==0:\n",
    "    print('Factorial is 1')\n",
    "else:\n",
    "    for i in range(1,num+1):\n",
    "        factorial=factorial*i\n",
    "print('Factorial of a number is',num,'is',factorial)        \n",
    "        \n",
    "        \n",
    "    "
   ]
  },
  {
   "cell_type": "markdown",
   "metadata": {},
   "source": [
    "# Python Program to Display the multiplication Table"
   ]
  },
  {
   "cell_type": "code",
   "execution_count": 32,
   "metadata": {},
   "outputs": [
    {
     "name": "stdout",
     "output_type": "stream",
     "text": [
      "Enter a number:8\n",
      "8 x 1 = 8\n",
      "8 x 2 = 16\n",
      "8 x 3 = 24\n",
      "8 x 4 = 32\n",
      "8 x 5 = 40\n",
      "8 x 6 = 48\n",
      "8 x 7 = 56\n",
      "8 x 8 = 64\n",
      "8 x 9 = 72\n",
      "8 x 10 = 80\n"
     ]
    }
   ],
   "source": [
    "num=int(input('Enter a number:'))\n",
    "for i in range(1,11):\n",
    "    print(num,'x',i,'=',num*i)"
   ]
  },
  {
   "cell_type": "markdown",
   "metadata": {},
   "source": [
    "# Python Program to Print the Fibonacci sequence"
   ]
  },
  {
   "cell_type": "code",
   "execution_count": 34,
   "metadata": {},
   "outputs": [
    {
     "name": "stdout",
     "output_type": "stream",
     "text": [
      "Enter number of terms:7\n",
      "Fibonacci sequence\n",
      "0\n",
      "1\n",
      "1\n",
      "2\n",
      "3\n",
      "5\n",
      "8\n"
     ]
    }
   ],
   "source": [
    "terms=int(input('Enter number of terms:'))\n",
    "n1,n2=0,1\n",
    "count=0\n",
    "\n",
    "if terms<=0:\n",
    "    print('Please enter positive number')\n",
    "elif terms==1:\n",
    "    print('Fibonacci sequemce upto',terms,'is',n1)\n",
    "else:\n",
    "    print('Fibonacci sequence')\n",
    "    while count<terms:\n",
    "        print(n1)\n",
    "        n=n1+n2\n",
    "        n1=n2\n",
    "        n2=n\n",
    "        count=count+1"
   ]
  },
  {
   "cell_type": "markdown",
   "metadata": {},
   "source": [
    "# Python Program to Check Armstrong Number"
   ]
  },
  {
   "cell_type": "code",
   "execution_count": 39,
   "metadata": {},
   "outputs": [
    {
     "name": "stdout",
     "output_type": "stream",
     "text": [
      "Enter a  3 digit number:89087\n",
      "89087 is not an Armstrong number\n"
     ]
    }
   ],
   "source": [
    "num=int(input('Enter a  3 digit number:'))\n",
    "sum= 0\n",
    "order=len(str(num))\n",
    "temp = num\n",
    "while temp > 0:\n",
    "   digit = temp % 10\n",
    "   sum += digit ** order\n",
    "   temp //= 10\n",
    "\n",
    "if num == sum:\n",
    "   print(num,\"is an Armstrong number\")\n",
    "else:\n",
    "   print(num,\"is not an Armstrong number\")"
   ]
  },
  {
   "cell_type": "markdown",
   "metadata": {},
   "source": [
    "# Python Program to Find Armstrong Number in an Interval"
   ]
  },
  {
   "cell_type": "code",
   "execution_count": 1,
   "metadata": {},
   "outputs": [
    {
     "name": "stdout",
     "output_type": "stream",
     "text": [
      "Enter a lower number:78\n",
      "Enter a upper number:157\n",
      "153 is an Armstrong number\n"
     ]
    }
   ],
   "source": [
    "lower=int(input('Enter a lower number:'))\n",
    "upper=int(input('Enter a upper number:'))\n",
    "for num in range(lower,upper+1):\n",
    "    temp=num\n",
    "    order=len(str(temp))\n",
    "    sum=0\n",
    "    while temp>0:\n",
    "        digit=temp%10\n",
    "        sum=sum+digit**order\n",
    "        temp=temp//10\n",
    "    if num==sum:\n",
    "        print(num,'is an Armstrong number')"
   ]
  },
  {
   "cell_type": "markdown",
   "metadata": {},
   "source": [
    "# Python Program to Find the Sum of Natural Numbers"
   ]
  },
  {
   "cell_type": "code",
   "execution_count": 9,
   "metadata": {},
   "outputs": [
    {
     "name": "stdout",
     "output_type": "stream",
     "text": [
      "Enter the number: 5\n",
      "15\n"
     ]
    }
   ],
   "source": [
    "n=int(input('Enter the number: '))\n",
    "sum=0\n",
    "if n<=0:\n",
    "    print('Enter positive number')  \n",
    "else:    \n",
    "    while n>0:\n",
    "        sum=sum+n\n",
    "        n=n-1\n",
    "print(sum)    "
   ]
  },
  {
   "cell_type": "markdown",
   "metadata": {},
   "source": [
    "# Program to Compute LCM\n"
   ]
  },
  {
   "cell_type": "code",
   "execution_count": 2,
   "metadata": {},
   "outputs": [],
   "source": [
    "def compute_lcm(x,y):\n",
    "    if x>y:\n",
    "        greater=x\n",
    "    else:\n",
    "        greater=y\n",
    "    while(True):\n",
    "        if((greater%x==0) and (greater%y==0)):\n",
    "            lcm=greater\n",
    "            break\n",
    "        greater=greater+1\n",
    "    return lcm    "
   ]
  },
  {
   "cell_type": "markdown",
   "metadata": {},
   "source": [
    "# Python Program to Find HCF or GCD"
   ]
  },
  {
   "cell_type": "code",
   "execution_count": 5,
   "metadata": {},
   "outputs": [],
   "source": [
    "def compute_hcf(x,y):\n",
    "    if x<y:\n",
    "        smaller=x\n",
    "    else:\n",
    "        smaller=y\n",
    "    for i in range(1,smaller+1):\n",
    "        if((x%i==0) and (y%i==0)):\n",
    "            hcf=i\n",
    "    return hcf        \n",
    "            "
   ]
  },
  {
   "cell_type": "markdown",
   "metadata": {},
   "source": [
    "# Python Program To Find ASCII value of a character"
   ]
  },
  {
   "cell_type": "code",
   "execution_count": 13,
   "metadata": {},
   "outputs": [
    {
     "name": "stdout",
     "output_type": "stream",
     "text": [
      "Enter the character:9\n",
      "The ASCII value of 9 is 57\n"
     ]
    }
   ],
   "source": [
    "char=input('Enter the character:')\n",
    "print(\"The ASCII value of {} is {}\".format(char,ord(char)))"
   ]
  },
  {
   "cell_type": "markdown",
   "metadata": {},
   "source": [
    "# Python Program to Make a Simple Calculator"
   ]
  },
  {
   "cell_type": "code",
   "execution_count": null,
   "metadata": {},
   "outputs": [
    {
     "name": "stdout",
     "output_type": "stream",
     "text": [
      "Select the Operation:\n",
      "1.add\n",
      "2 subtract\n",
      "3.multiply\n",
      "4.divide\n",
      "Enter your choice from 1,2,3,43\n",
      "Enter first number:8\n",
      "Enter second number:9\n",
      "8.0 * 9.0 = 72.0\n",
      "Enter your choice from 1,2,3,48\n",
      "Invalid data input\n",
      "Enter your choice from 1,2,3,44\n",
      "Enter first number:89\n",
      "Enter second number:79\n",
      "89.0 / 79.0 = 1.1265822784810127\n"
     ]
    }
   ],
   "source": [
    "def add(x,y):\n",
    "    return x+y\n",
    "\n",
    "def subtract(x,y):\n",
    "    return x-y\n",
    "\n",
    "def multiply(x,y):\n",
    "    return x*y\n",
    "\n",
    "def divide(x,y):\n",
    "    return x/y\n",
    "\n",
    "print('Select the Operation:')\n",
    "print('1.add')\n",
    "print('2 subtract')\n",
    "print('3.multiply')\n",
    "print('4.divide')\n",
    "\n",
    "while(True):\n",
    "    \n",
    "    choice=input('Enter your choice from 1,2,3,4')\n",
    "    \n",
    "    if choice in ['1','2','3','4']:\n",
    "        num1=float(input('Enter first number:'))\n",
    "        num2=float(input('Enter second number:'))\n",
    "        \n",
    "        if choice=='1':\n",
    "            print(num1,'+',num2,\"=\",add(num1,num2))\n",
    "        if choice=='2':\n",
    "            print(num1,'-',num2,\"=\",subtract(num1,num2))\n",
    "        if choice=='3':\n",
    "            print(num1,'*',num2,\"=\",multiply(num1,num2))\n",
    "        if choice=='4':\n",
    "            print(num1,'/',num2,\"=\",divide(num1,num2))\n",
    "    else:\n",
    "        print('Invalid data input')\n",
    "\n",
    "        \n",
    "            \n",
    "        \n"
   ]
  },
  {
   "cell_type": "markdown",
   "metadata": {},
   "source": [
    "# Python Program to Display Fibonacci Sequence Using Recursion"
   ]
  },
  {
   "cell_type": "code",
   "execution_count": 7,
   "metadata": {},
   "outputs": [
    {
     "name": "stdout",
     "output_type": "stream",
     "text": [
      "Enter the no of terms:8\n",
      "Fibonacci sequence:\n",
      "0\n",
      "1\n",
      "1\n",
      "2\n",
      "3\n",
      "5\n",
      "8\n",
      "13\n"
     ]
    }
   ],
   "source": [
    "# Python program to display the Fibonacci sequence\n",
    "\n",
    "def recur_fibo(n):\n",
    "   if n <= 1:\n",
    "       return n\n",
    "   else:\n",
    "       return(recur_fibo(n-1) + recur_fibo(n-2))\n",
    "\n",
    "nterms =int(input('Enter the no of terms:'))\n",
    "\n",
    "# check if the number of terms is valid\n",
    "if nterms <= 0:\n",
    "   print(\"Plese enter a positive integer\")\n",
    "else:\n",
    "   print(\"Fibonacci sequence:\")\n",
    "   for i in range(nterms):\n",
    "       print(recur_fibo(i))"
   ]
  },
  {
   "cell_type": "markdown",
   "metadata": {},
   "source": [
    "#     Python Program to Find Factorial of Number Using Recursion"
   ]
  },
  {
   "cell_type": "code",
   "execution_count": 10,
   "metadata": {},
   "outputs": [
    {
     "name": "stdout",
     "output_type": "stream",
     "text": [
      "Enter the number:5\n",
      "The factorial of 5 is 120\n"
     ]
    }
   ],
   "source": [
    "def recur_factorial(num):\n",
    "    if num==1:\n",
    "        return 1\n",
    "    else:\n",
    "        return num*recur_factorial(num-1)\n",
    "num=int(input('Enter the number:'))\n",
    "if num<0:\n",
    "    print('Factorial does not exist for negative number')\n",
    "elif num==0:\n",
    "    print('Factorial of 0 is 1')\n",
    "else:\n",
    "    print('The factorial of',num,'is',recur_factorial(num))"
   ]
  },
  {
   "cell_type": "markdown",
   "metadata": {},
   "source": [
    "# Python Program to Add Two Matrices"
   ]
  },
  {
   "cell_type": "code",
   "execution_count": 4,
   "metadata": {},
   "outputs": [
    {
     "name": "stdout",
     "output_type": "stream",
     "text": [
      "[2, 4, 6]\n",
      "[8, 10, 12]\n",
      "[14, 16, 18]\n"
     ]
    }
   ],
   "source": [
    "# In Python, we can implement a matrix as a nested list (list inside a list). We can treat each element as a row of the matrix.\n",
    "X=[[1,2,3], # First matrix\n",
    "  [4,5,6],\n",
    "  [7,8,9]]\n",
    "\n",
    "Y=[[1,2,3], # Second matrix\n",
    "  [4,5,6],\n",
    "  [7,8,9]]\n",
    "\n",
    "result=[[0,0,0],\n",
    "       [0,0,0],\n",
    "       [0,0,0]]\n",
    "\n",
    "# iterate through rows\n",
    "for i in range(len(X)):\n",
    "     # iterate through columns\n",
    "    for j in range(len(X)):\n",
    "        result[i][j]=X[i][j]+Y[i][j]\n",
    "for r in result:  # Displaying Result\n",
    "    print(r)"
   ]
  },
  {
   "cell_type": "markdown",
   "metadata": {},
   "source": [
    "# Python Program to Multiply Two Matrices"
   ]
  },
  {
   "cell_type": "code",
   "execution_count": 4,
   "metadata": {},
   "outputs": [
    {
     "name": "stdout",
     "output_type": "stream",
     "text": [
      "[21, 24, 27]\n",
      "[42, 48, 54]\n",
      "[63, 72, 81]\n"
     ]
    }
   ],
   "source": [
    "X=[[1,2,3],\n",
    "  [4,5,6],\n",
    "  [7,8,9]]\n",
    "\n",
    "Y=[[1,2,3],\n",
    "  [4,5,6],\n",
    "  [7,8,9]]\n",
    "\n",
    "result=[[0,0,0],\n",
    "       [0,0,0],\n",
    "       [0,0,0]]\n",
    "\n",
    "\n",
    "for i in range(len(X)):\n",
    "    for j in range(len(Y[0])):\n",
    "        for k in range(len(Y)):\n",
    "            result[i][j]=X[i][k]*Y[k][j]\n",
    "\n",
    "for r in result:\n",
    "    print(r)\n",
    " \n",
    "            \n",
    "        "
   ]
  },
  {
   "cell_type": "markdown",
   "metadata": {},
   "source": [
    "# Python Program to Sort Words in Alphabetic Order"
   ]
  },
  {
   "cell_type": "code",
   "execution_count": 5,
   "metadata": {},
   "outputs": [
    {
     "name": "stdout",
     "output_type": "stream",
     "text": [
      "Enter the string:hello my name is aayush jain\n",
      "The Sorted words are:\n",
      "aayush\n",
      "hello\n",
      "is\n",
      "jain\n",
      "my\n",
      "name\n"
     ]
    }
   ],
   "source": [
    "# Python Program to Sort Words in Alphabetic Order\n",
    "\n",
    "str=input('Enter the string:')\n",
    "\n",
    "# breakdown the string into a list of words\n",
    "words=str.split()\n",
    "\n",
    "# sort the list\n",
    "words.sort()\n",
    "print('The Sorted words are:')\n",
    "for i in words:\n",
    "    print(i)\n",
    "    \n",
    "# Using the split() method the string is converted into a list of words. The split() method splits the string at whitespaces.\n",
    "# The list of words is then sorted using the sort() method, and all the words are displayed.    \n",
    "    "
   ]
  },
  {
   "cell_type": "markdown",
   "metadata": {},
   "source": [
    "# Python Program to Transpose a Matrix"
   ]
  },
  {
   "cell_type": "code",
   "execution_count": null,
   "metadata": {},
   "outputs": [],
   "source": [
    "# Program to transpose a matrix using a nested loop\n",
    "\n",
    "X = [[12,7],\n",
    "    [4 ,5],\n",
    "    [3 ,8]]\n",
    "\n",
    "result = [[0,0,0],\n",
    "         [0,0,0]]\n",
    "\n",
    "# iterate through rows\n",
    "for i in range(len(X)):\n",
    "   # iterate through columns\n",
    "   for j in range(len(X[0])):\n",
    "       result[j][i] = X[i][j]\n",
    "\n",
    "for r in result:\n",
    "   print(r)"
   ]
  },
  {
   "cell_type": "markdown",
   "metadata": {},
   "source": [
    "# Python Program to Remove Punctuation From a String"
   ]
  },
  {
   "cell_type": "code",
   "execution_count": 3,
   "metadata": {},
   "outputs": [
    {
     "name": "stdout",
     "output_type": "stream",
     "text": [
      "Enter a String:@#%tyhggh%fgh#fvhjjk*\n",
      "kjjhvfhgfhgghyt \n"
     ]
    }
   ],
   "source": [
    "punctuations = '''!()-[]{};:'\"\\,<>./?@#$%^&*_~'''\n",
    "str=input('Enter a String:')\n",
    "no_punct=\" \"\n",
    "for char in str:\n",
    "    if char not in punctuations:\n",
    "        no_punct=char+no_punct\n",
    "print(no_punct)"
   ]
  },
  {
   "cell_type": "markdown",
   "metadata": {},
   "source": [
    "# Count frequencies of all elements in array in Python"
   ]
  },
  {
   "cell_type": "code",
   "execution_count": 21,
   "metadata": {},
   "outputs": [
    {
     "name": "stdout",
     "output_type": "stream",
     "text": [
      "1 : 4\n",
      "3 : 1\n",
      "4 : 3\n",
      "6 : 1\n",
      "7 : 1\n",
      "8 : 3\n",
      "9 : 2\n"
     ]
    }
   ],
   "source": [
    "# An array is a special variable, which can hold more than one value at a time.These values should be of the same type\n",
    "# An array can hold many values under a single name, and you can access the values by referring to an index number.\n",
    "# Python does not have built-in support for Arrays, but Python Lists can be used instead.\n",
    "# intializing the array\n",
    "arr=[1,1,1,1,3,4,4,4,6,7,8,8,8,9,9]\n",
    "# declaring empty dict to store frequency of each element\n",
    "count={}\n",
    "# iterating over the elements for frequency\n",
    "for i in arr:\n",
    "    # checking whether it is in the dict or not\n",
    "    if i in count:\n",
    "        # incerementing the count by 1\n",
    "        count[i]+=1\n",
    "    else:\n",
    "        # setting the count to 1\n",
    "        count[i]=1\n",
    "# printing the elements frequencies        \n",
    "for key,value in count.items():\n",
    "    print(key,':',value)\n",
    "        "
   ]
  },
  {
   "cell_type": "markdown",
   "metadata": {},
   "source": [
    "# Python program to print the elements of an array"
   ]
  },
  {
   "cell_type": "code",
   "execution_count": 37,
   "metadata": {},
   "outputs": [
    {
     "name": "stdout",
     "output_type": "stream",
     "text": [
      "array('d', [1.1, 3.5, 4.5, 8.9, 87.6, 45.6])\n",
      "Element present at index 0 is 1.1\n",
      "Element present at index 1 is 3.5\n",
      "Element present at index 2 is 4.5\n",
      "Element present at index 3 is 8.9\n",
      "Element present at index 4 is 87.6\n",
      "Element present at index 5 is 45.6\n"
     ]
    }
   ],
   "source": [
    "# An array is a special variable, which can hold more than one value at a time.These values should be of the same type.\n",
    "# An array can hold many values under a single name, and you can access the values by referring to an index number.\n",
    "\n",
    "# The array module allows us to store a collection of numeric values.\n",
    "# Importing array module to create array.\n",
    "\n",
    "import array as arr\n",
    "arr = arr.array('d', [1.1, 3.5, 4.5,8.9,87.6,45.6])\n",
    "\n",
    "\n",
    "# The letter d is a type code. This determines the type of the array during creation.\n",
    "# i for integers and d for floats are used.\n",
    "print(arr)                         # Displaying array\n",
    "# Accessing Python Array Elements\n",
    "for i in range(len(arr)):\n",
    "    print('Element present at index {} is {}'.format(i,arr[i]))\n",
    "    "
   ]
  },
  {
   "cell_type": "markdown",
   "metadata": {},
   "source": [
    "# Python program to print the elements of an array present on odd position"
   ]
  },
  {
   "cell_type": "code",
   "execution_count": 35,
   "metadata": {},
   "outputs": [
    {
     "name": "stdout",
     "output_type": "stream",
     "text": [
      "array('i', [56, 78, 90, 3, 5, 6, 8, 9])\n",
      "Element present at 1 position  is 56\n",
      "Element present at 3 position  is 90\n",
      "Element present at 5 position  is 5\n",
      "Element present at 7 position  is 8\n"
     ]
    }
   ],
   "source": [
    "# An array is a special variable, which can hold more than one value at a time.These values should be of the same type.\n",
    "# An array can hold many values under a single name, and you can access the values by referring to an index number.\n",
    "\n",
    "# The array module allows us to store a collection of numeric values.\n",
    "# Importing array module to create array.\n",
    "\n",
    "import array as arr\n",
    "arr = arr.array('i', [56,78,90,3,5,6,8,9])\n",
    "\n",
    "\n",
    "# The letter i is a type code. This determines the type of the array during creation.\n",
    "# i for integers and d for floats are used.\n",
    "print(arr)                         # Displaying array\n",
    "# Accessing Python Array Elements\n",
    "for i in range(0,len(arr),2):  # Loop through the array by incrementing the value of i by 2. \n",
    "    print('Element present at {} position  is {}'.format(i+1,arr[i]))\n",
    "    "
   ]
  },
  {
   "cell_type": "markdown",
   "metadata": {},
   "source": [
    "# Python program to print the number of elements present in an array\n"
   ]
  },
  {
   "cell_type": "code",
   "execution_count": 6,
   "metadata": {},
   "outputs": [
    {
     "name": "stdout",
     "output_type": "stream",
     "text": [
      "array('i', [7, 8, 9, 65, 3, 2, 56, 78])\n",
      "Number of elements present in given array: 8\n"
     ]
    }
   ],
   "source": [
    "# An array is a special variable, which can hold more than one value at a time.These values should be of the same type.\n",
    "# An array can hold many values under a single name, and you can access the values by referring to an index number.\n",
    "\n",
    "# The array module allows us to store a collection of numeric values.\n",
    "# Importing array module to create array.\n",
    "\n",
    "import array as arr\n",
    "arr = arr.array('i', [7,8,9,65,3,2,56,78])\n",
    "\n",
    "\n",
    "# The letter i is a type code. This determines the type of the array during creation.\n",
    "# i for integers and d for floats are used.\n",
    "print(arr)                         # Displaying array\n",
    "\n",
    "\n",
    "# Number of elements present in an array can be found using len() function.\n",
    "print(\"Number of elements present in given array: \" + str(len(arr)))"
   ]
  },
  {
   "cell_type": "markdown",
   "metadata": {},
   "source": [
    "# Python program to sort the elements of an array in ascending order"
   ]
  },
  {
   "cell_type": "code",
   "execution_count": 13,
   "metadata": {},
   "outputs": [
    {
     "name": "stdout",
     "output_type": "stream",
     "text": [
      "Elements of original array: \n"
     ]
    },
    {
     "ename": "TypeError",
     "evalue": "'int' object is not callable",
     "output_type": "error",
     "traceback": [
      "\u001b[1;31m---------------------------------------------------------------------------\u001b[0m",
      "\u001b[1;31mTypeError\u001b[0m                                 Traceback (most recent call last)",
      "\u001b[1;32m<ipython-input-13-8d0209cf4733>\u001b[0m in \u001b[0;36m<module>\u001b[1;34m\u001b[0m\n\u001b[0;32m     16\u001b[0m \u001b[1;33m\u001b[0m\u001b[0m\n\u001b[0;32m     17\u001b[0m \u001b[0mprint\u001b[0m\u001b[1;33m(\u001b[0m\u001b[1;34m\"Elements of original array: \"\u001b[0m\u001b[1;33m)\u001b[0m\u001b[1;33m\u001b[0m\u001b[1;33m\u001b[0m\u001b[0m\n\u001b[1;32m---> 18\u001b[1;33m \u001b[1;32mfor\u001b[0m \u001b[0mi\u001b[0m \u001b[1;32min\u001b[0m \u001b[0mrange\u001b[0m\u001b[1;33m(\u001b[0m\u001b[1;36m0\u001b[0m\u001b[1;33m,\u001b[0m \u001b[0mlen\u001b[0m\u001b[1;33m(\u001b[0m\u001b[0marr\u001b[0m\u001b[1;33m)\u001b[0m\u001b[1;33m)\u001b[0m\u001b[1;33m:\u001b[0m\u001b[1;33m\u001b[0m\u001b[1;33m\u001b[0m\u001b[0m\n\u001b[0m\u001b[0;32m     19\u001b[0m     \u001b[0mprint\u001b[0m\u001b[1;33m(\u001b[0m\u001b[0marr\u001b[0m\u001b[1;33m[\u001b[0m\u001b[0mi\u001b[0m\u001b[1;33m]\u001b[0m\u001b[1;33m,\u001b[0m \u001b[0mend\u001b[0m\u001b[1;33m=\u001b[0m\u001b[1;34m\" \"\u001b[0m\u001b[1;33m)\u001b[0m\u001b[1;33m\u001b[0m\u001b[1;33m\u001b[0m\u001b[0m\n\u001b[0;32m     20\u001b[0m \u001b[1;33m\u001b[0m\u001b[0m\n",
      "\u001b[1;31mTypeError\u001b[0m: 'int' object is not callable"
     ]
    }
   ],
   "source": [
    "# An array is a special variable, which can hold more than one value at a time.These values should be of the same type.\n",
    "# An array can hold many values under a single name, and you can access the values by referring to an index number.\n",
    "\n",
    "# The array module allows us to store a collection of numeric values.\n",
    "# Importing array module to create array.\n",
    "\n",
    "import array as arr\n",
    "arr = arr.array('i', [7,8,9,65,3,2,56,78])\n",
    "\n",
    "\n",
    "# The letter i is a type code. This determines the type of the array during creation.\n",
    "# i for integers and d for floats are used.\n",
    "temp = 0;\n",
    "\n",
    "#Displaying elements of original array\n",
    "\n",
    "print(\"Elements of original array: \")    \n",
    "for i in range(0, len(arr)):  \n",
    "    print(arr[i], end=\" \")    \n",
    "     \n",
    "#Sort the array in ascending order    \n",
    "for i in range(0, len(arr)):      # Loop through the array and select an element\n",
    "    for j in range(i+1, len(arr)):  # The inner loop will be used to compare the selected element from the outer loop with the rest of the elements of the array.\n",
    "        if(arr[i] > arr[j]):     # If any element is less than the selected element then swap the values.\n",
    "            temp = arr[i]    \n",
    "            arr[i] = arr[j]    \n",
    "            arr[j] = temp    \n",
    "     \n",
    "print()    \n",
    "     \n",
    "#Displaying elements of the array after sorting    \n",
    "    \n",
    "print(\"Elements of array sorted in ascending order: \")    \n",
    "for i in range(0, len(arr)):    \n",
    "    print(arr[i], end=\" \")    \n"
   ]
  },
  {
   "cell_type": "markdown",
   "metadata": {},
   "source": [
    "# Python program to print all disarium numbers between 1 to 100"
   ]
  },
  {
   "cell_type": "code",
   "execution_count": 17,
   "metadata": {},
   "outputs": [
    {
     "name": "stdout",
     "output_type": "stream",
     "text": [
      "Enter a number:137\n"
     ]
    }
   ],
   "source": [
    " # Given a number “n”, find if it is Disarium or not. \n",
    "# A number is called Disarium if sum of its digits powered with their respective positions is equal to the number itself.\n",
    "\n",
    "# Input : n = 135 Output : Yes 1^1 + 3^2 + 5^3 = 135 Therefore, 135 is a Disarium number\n",
    "# 175 is a Disarium numbe 1^1 + 7^2 + 5^3 = 1 + 49 + 125 = 175\n",
    "\n",
    "#Length() function will count the digits present in a number\n",
    "\n",
    "def calculateLength(n):            # Creating a function\n",
    "    length = 0  \n",
    "    while(n != 0):                # Using a while loop to check whether the number is not equal to 0.\n",
    "        length = length + 1 \n",
    "        n = n//10                 # Dividing the number by 10 and incrementing the variable length by 1\n",
    "    return length                 # Returning length \n",
    "for i in range(1,101):   \n",
    "num=i                         # Define and initialize variable num.\n",
    "rem = sum = 0                      \n",
    "len = calculateLength(num)  \n",
    "   \n",
    "#Making a copy of the original number num  \n",
    "n = num;  \n",
    "   \n",
    "#Calculates the sum of digits powered with their respective position  \n",
    "while(num > 0):                   #Using while loop calculating remainder rem repeatedly by dividing num with 10.\n",
    "    rem = num%10 \n",
    "    sum = sum + int(rem**len)   #Calculating the value of rem raised to power its position, i.e. rem,len and store the computed value in a variable sum.\n",
    "    num = num//10                  \n",
    "    len = len - 1  \n",
    "   \n",
    "#Checks whether the sum is equal to the number itself  \n",
    "if(sum == n):  \n",
    "    print(str(n) + \" is a disarium number\") \n",
    "#else:  \n",
    "    #print(str(n) + \" is not a disarium number\") "
   ]
  },
  {
   "cell_type": "markdown",
   "metadata": {},
   "source": [
    "# Python program to determine whether the given number is a Harshad Number"
   ]
  },
  {
   "cell_type": "code",
   "execution_count": 20,
   "metadata": {},
   "outputs": [
    {
     "name": "stdout",
     "output_type": "stream",
     "text": [
      "Enter a number:154\n",
      "154 is not a harshad number\n"
     ]
    }
   ],
   "source": [
    "# If a number is divisible by the sum of its digits, then it will be known as a Harshad Number.\n",
    "# The number 156 is divisible by the sum (12) of its digits (1, 5, 6 ).\n",
    "# 1, 2, 3, 4, 5, 6, 7, 8, 9, 10, 12, 18, 20,54,120 are Harshad Numbers.\n",
    "\n",
    "num = int(input('Enter a number:'))    \n",
    "rem = sum = 0    # Declare a variable ‘sum’ and initialize it with 0.\n",
    "     \n",
    "#Make a copy of num and store it in variable n    \n",
    "n = num    \n",
    "     \n",
    "#Calculates sum of digits    \n",
    "while(num > 0):                # If the number is greater than 0, divide the number by 10 to obtain the remainder.\n",
    "    rem = num%10              # Store this remainder in the ‘rem’ variable.\n",
    "    sum = sum + rem           # Add the value in ‘rem’ to variable ‘sum’.\n",
    "    num = num//10            # Now, divide the number by 10.\n",
    "     \n",
    "#Checks whether the number is divisible by the sum of digits    \n",
    "if(n%sum == 0):    \n",
    "    print(str(n) + \" is a harshad number\")    # If the number is divisible, then the number is a Harshad number.\n",
    "else:    \n",
    "    print(str(n) + \" is not a harshad number\")    \n",
    "\n"
   ]
  },
  {
   "cell_type": "code",
   "execution_count": 19,
   "metadata": {},
   "outputs": [
    {
     "name": "stdout",
     "output_type": "stream",
     "text": [
      "1 is a disarium number\n",
      "2 is a disarium number\n",
      "3 is a disarium number\n",
      "4 is a disarium number\n",
      "5 is a disarium number\n",
      "6 is a disarium number\n",
      "7 is a disarium number\n",
      "8 is a disarium number\n",
      "9 is a disarium number\n",
      "89 is a disarium number\n"
     ]
    }
   ],
   "source": [
    " # Given a number “n”, find if it is Disarium or not. \n",
    "# A number is called Disarium if sum of its digits powered with their respective positions is equal to the number itself.\n",
    "\n",
    "# Input : n = 135 Output : Yes 1^1 + 3^2 + 5^3 = 135 Therefore, 135 is a Disarium number\n",
    "# 175 is a Disarium numbe 1^1 + 7^2 + 5^3 = 1 + 49 + 125 = 175\n",
    "\n",
    "#Length() function will count the digits present in a number\n",
    "\n",
    "def calculateLength(n):            # Creating a function\n",
    "    length = 0  \n",
    "    while(n != 0):                # Using a while loop to check whether the number is not equal to 0.\n",
    "        length = length + 1 \n",
    "        n = n//10                 # Dividing the number by 10 and incrementing the variable length by 1\n",
    "    return length                 # Returning length \n",
    "for i in range(1,101):          # Using For loop for iterating values from 1 t0 100\n",
    "    num=i                         # Define and initialize variable num.\n",
    "    rem = sum = 0                      \n",
    "    len = calculateLength(num)  \n",
    "   \n",
    "    #Making a copy of the original number num  \n",
    "    n = num;  \n",
    "   \n",
    "#Calculates the sum of digits powered with their respective position  \n",
    "    while(num > 0):                   #Using while loop calculating remainder rem repeatedly by dividing num with 10.\n",
    "       rem = num%10 \n",
    "       sum = sum + int(rem**len)   #Calculating the value of rem raised to power its position, i.e. rem,len and store the computed value in a variable sum.\n",
    "       num = num//10                  \n",
    "       len = len - 1  \n",
    "   \n",
    "#Checks whether the sum is equal to the number itself  \n",
    "    if(sum == n):  \n",
    "        print(str(n) + \" is a disarium number\") \n",
    "#else:  \n",
    "    #print(str(n) + \" is not a disarium number\") "
   ]
  },
  {
   "cell_type": "markdown",
   "metadata": {},
   "source": [
    "# Python program to create a Circular Linked List of n nodes and display it in reverse order"
   ]
  },
  {
   "cell_type": "code",
   "execution_count": 1,
   "metadata": {},
   "outputs": [
    {
     "ename": "SyntaxError",
     "evalue": "invalid syntax (<ipython-input-1-9cd98689958b>, line 3)",
     "output_type": "error",
     "traceback": [
      "\u001b[1;36m  File \u001b[1;32m\"<ipython-input-1-9cd98689958b>\"\u001b[1;36m, line \u001b[1;32m3\u001b[0m\n\u001b[1;33m    1.Define a Node class which represents a node in the list. It has two properties data and next which will point to the next node.\u001b[0m\n\u001b[1;37m      ^\u001b[0m\n\u001b[1;31mSyntaxError\u001b[0m\u001b[1;31m:\u001b[0m invalid syntax\n"
     ]
    }
   ],
   "source": [
    "# Python program to create a Circular Linked List of n nodes and display it in reverse order\n",
    "\n",
    "1.Define a Node class which represents a node in the list. It has two properties data and next which will point to the next node.\n",
    "2.Define another class for creating the circular linked list, and it has two nodes: head and tail. It has two methods: add(), display() and reverse().\n",
    "3.add() will add a node to the list:\n",
    "    a.It first checks whether the head is null, then it will insert the node as the head.\n",
    "    b.Both head and tail will point to the newly added node.\n",
    "    c.If the head is not null, the new node will be the new tail, and new tail will point to head as it is a circular linked list.\n",
    "\n",
    "4.display() will show all the nodes present in the list.\n",
    "\n",
    "  -Define a new node 'current' that will point to the head.\n",
    "  -Print current.data till current will points to head again.\n",
    "  -Current will point to the next node in the list in each iteration.\n",
    "    \n",
    "5.reverse() will print the circular linked list in reverse order.\n",
    "  -This method checks whether the next node to current is head which implies that, current is pointing to tail, then it will print the data of the tail node.\n",
    "  -Recursively call reverse() by considering node next to current node and prints out all the nodes in reverse order starting from the tail.\n",
    "\n",
    "\n",
    "#Represents the node of list.    \n",
    "class Node:    \n",
    "    def __init__(self,data):    \n",
    "      self.data = data   \n",
    "      self.next = None    \n",
    "     \n",
    "class CreateList:    \n",
    "    #Declaring head and tail pointer as null.    \n",
    "    def __init__(self):    \n",
    "      self.head = Node(None)    \n",
    "      self.tail = Node(None)    \n",
    "      self.head.next = self.tail    \n",
    "      self.tail.next = self.head    \n",
    "          \n",
    "    #This function will add the new node at the end of the list.    \n",
    "    def add(self,data):    \n",
    "      newNode = Node(data)    \n",
    "      #Checks if the list is empty.    \n",
    "      if self.head.data is None:    \n",
    "        #If list is empty, both head and tail would point to new node.    \n",
    "        self.head = newNode;    \n",
    "        self.tail = newNode;    \n",
    "        newNode.next = self.head;    \n",
    "      else:    \n",
    "        #tail will point to new node.    \n",
    "        self.tail.next = newNode;    \n",
    "        #New node will become new tail.    \n",
    "        self.tail = newNode;    \n",
    "        #Since, it is circular linked list tail will point to head.    \n",
    "        self.tail.next = self.head;    \n",
    "     \n",
    "    #Displays all the nodes in the list    \n",
    "    def display(self):    \n",
    "        current = self.head;    \n",
    "        if self.head is None:    \n",
    "          print(\"List is empty\");    \n",
    "          return;    \n",
    "        else:    \n",
    "            #Prints each node by incrementing pointer.    \n",
    "            print(current.data),    \n",
    "            while(current.next != self.head):    \n",
    "                current = current.next;    \n",
    "                print(current.data),    \n",
    "            \n",
    "    #Reverse the order of the nodes present in the list.    \n",
    "    def reverse(self, current):    \n",
    "        #Checks if the next node is head, if yes then prints it.    \n",
    "        if(current.next == self.head):    \n",
    "            print(current.data),    \n",
    "            return;    \n",
    "        #Recursively calls the reverse function    \n",
    "        self.reverse(current.next);    \n",
    "        print(current.data),    \n",
    "        \n",
    "        \n",
    "class CircularLinkedList:    \n",
    "    cl = CreateList();    \n",
    "    #Adds data to the list    \n",
    "    cl.add(1);    \n",
    "    cl.add(2);    \n",
    "    cl.add(3);    \n",
    "    cl.add(4);    \n",
    "    cl.add(5);    \n",
    "    cl.add(6);    \n",
    "    print(\"Original List: \");    \n",
    "    cl.display();    \n",
    "    print(\"\\nReversed List: \");    \n",
    "    #Print reversed list    \n",
    "    cl.reverse(cl.head);    "
   ]
  },
  {
   "cell_type": "markdown",
   "metadata": {},
   "source": [
    "# Python program to delete a node from the end of the Circular Linked List"
   ]
  },
  {
   "cell_type": "code",
   "execution_count": null,
   "metadata": {},
   "outputs": [],
   "source": [
    "#Python program to delete a node from the end of the Circular Linked List\n",
    "# In this program, we will create a circular linked list and delete a node from the end of the list. If the list is empty, it will display the message \"List is empty\". If the list is not empty, we will loop through the list till second last node is reached. We will make second last node as the new tail, and this new tail will point to head and delete the previous tail.\n",
    "\n",
    "ALGORITHM-\n",
    "\n",
    "1.Define a Node class which represents a node in the list. It has two properties data and next which will point to the next node.\n",
    "2.Define another class for creating the circular linked list, and it has two nodes: head and tail. It has two methods: deleteEnd() and display() .\n",
    "3.deleteEnd() will delete the node from the end of the list:\n",
    "    -It first checks whether the head is null (empty list) then, it will return from the function as there is no node present in the list.\n",
    "    -If the list is not empty, it will check whether the list has only one node.\n",
    "    -If the list has only one node, it will set both head and tail to null.\n",
    "    -If the list has more than one node then, iterate through the loop till current.next!= tail.\n",
    "    -Now, current will point to the node previous to tail. Make current as new tail and tail will point to head thus, deletes the node from last.\n",
    "4.display() will show all the nodes present in the list:\n",
    "     -Define a new node 'current' that will point to the head.\n",
    "     -Print current.data till current will points to head again.\n",
    "     -Current will point to the next node in the list in each iteration.\n",
    "\n",
    "#Represents the node of list.    \n",
    "class Node:    \n",
    "    def __init__(self,data):    \n",
    "        self.data = data    \n",
    "        self.next = None    \n",
    "     \n",
    "class CreateList:    \n",
    "    #Declaring head and tail pointer as null.    \n",
    "    def __init__(self):    \n",
    "        self.head = Node(None)    \n",
    "        self.tail = Node(None)    \n",
    "        self.head.next = self.tail    \n",
    "        self.tail.next = self.head    \n",
    "        \n",
    "    #This function will add the new node at the end of the list.    \n",
    "    def add(self,data):    \n",
    "        newNode = Node(data)    \n",
    "        #Checks if the list is empty.    \n",
    "        if self.head.data is None:    \n",
    "            #If list is empty, both head and tail would point to new node.    \n",
    "            self.head = newNode    \n",
    "            self.tail = newNode    \n",
    "            newNode.next = self.head;    \n",
    "        else:    \n",
    "            #tail will point to new node.    \n",
    "            self.tail.next = newNode    \n",
    "            #New node will become new tail.    \n",
    "            self.tail = newNode   \n",
    "            #Since, it is circular linked list tail will point to head.    \n",
    "            self.tail.next = self.head   \n",
    "        \n",
    "    #Deletes node from end of the list    \n",
    "    def deleteEnd(self):    \n",
    "        #Checks whether list is empty    \n",
    "        if(self.head == None):    \n",
    "            return  \n",
    "        else:    \n",
    "            #Checks whether contain only one element    \n",
    "            if(self.head != self.tail ):    \n",
    "                current = self.head   \n",
    "                #Loop will iterate till the second last element as current.next is pointing to tail    \n",
    "                while(current.next != self.tail):    \n",
    "                    current = current.next    \n",
    "                #Second last element will be new tail    \n",
    "                self.tail = current   \n",
    "                #Tail will point to head as it is a circular linked list    \n",
    "                self.tail.next = self.head    \n",
    "            #If the list contains only one element     \n",
    "            #Then it will remove it and both head and tail will point to null    \n",
    "            else:    \n",
    "                self.head = self.tail = None    \n",
    "                \n",
    "    #Displays all the nodes in the list    \n",
    "    def display(self):    \n",
    "        current = self.head    \n",
    "        if self.head is None:    \n",
    "            print(\"List is empty\")    \n",
    "            return    \n",
    "        else:    \n",
    "            #Prints each node by incrementing pointer.    \n",
    "            print(current.data),    \n",
    "            while(current.next != self.head):    \n",
    "                current = current.next    \n",
    "                print(current.data)    \n",
    "            print(\"\\n\")    \n",
    "     \n",
    "class CircularLinkedList:    \n",
    "    cl = CreateList()    \n",
    "    #Adds data to the list    \n",
    "    cl.add(1)   \n",
    "    cl.add(2)   \n",
    "    cl.add(3)    \n",
    "    cl.add(4)    \n",
    "    #Printing original list    \n",
    "    print(\"Original List:\")    \n",
    "    cl.display()    \n",
    "    while(cl.head != None):    \n",
    "        cl.deleteEnd()    \n",
    "        #Printing updated list    \n",
    "        print(\"Updated List:\")   \n",
    "        cl.display()           \n",
    "    "
   ]
  },
  {
   "cell_type": "markdown",
   "metadata": {},
   "source": [
    "# Python program to insert a new node at the beginning of the Circular Linked List"
   ]
  },
  {
   "cell_type": "code",
   "execution_count": null,
   "metadata": {},
   "outputs": [],
   "source": [
    "# Python program to insert a new node at the beginning of the Circular Linked List\n",
    "\n",
    "1.Define a Node class which represents a node in the list. It has two properties data and next which will point to the next node.\n",
    "2.Define another class for creating the circular linked list, and it has two nodes: head and tail. It has two methods: addAtStart() and display() .\n",
    "3.addAtStart() will add the node to the beginning of the list:\n",
    "    -It first checks whether the head is null (empty list), then it will insert the node as the head.\n",
    "    -both head and tail will point to a newly added node.\n",
    "    -If the list is not empty, then the newly added node will become the new head, and it will point to the previous head.\n",
    "4. display() will show all the nodes present in the list.\n",
    "\n",
    "    -Define a new node 'current' that will point to the head.\n",
    "    -Print current.data till current will points to head again.\n",
    "    -Current will point to the next node in the list in each iteration.   \n",
    "\n",
    "#Represents the node of list.    \n",
    "class Node:    \n",
    "  def __init__(self,data):    \n",
    "    self.data = data    \n",
    "    self.next = None   \n",
    "     \n",
    "class CreateList:    \n",
    "  #Declaring head and tail pointer as null.    \n",
    "  def __init__(self):    \n",
    "    self.head = Node(None);    \n",
    "    self.tail = Node(None);    \n",
    "    self.head.next = self.tail;    \n",
    "    self.tail.next = self.head;    \n",
    "        \n",
    "  #This function will add at the start of the list.    \n",
    "  def addAtStart(self,data):    \n",
    "    newNode = Node(data);    \n",
    "    #Checks if the list is empty.    \n",
    "    if self.head.data is None:    \n",
    "      #If list is empty, both head and tail would point to new node.    \n",
    "      self.head = newNode;    \n",
    "      self.tail = newNode;    \n",
    "      newNode.next = self.head;    \n",
    "    else:    \n",
    "        #Store data into temporary node    \n",
    "        temp = self.head;    \n",
    "        #New node will point to temp as next node    \n",
    "        newNode.next = temp;    \n",
    "        #New node will be the head node    \n",
    "        self.head = newNode;    \n",
    "        #Since, it is circular linked list tail will point to head.    \n",
    "        self.tail.next = self.head;    \n",
    "     \n",
    "  #Displays all the nodes in the list    \n",
    "  def display(self):    \n",
    "    current = self.head;    \n",
    "    if self.head is None:    \n",
    "      print(\"List is empty\");    \n",
    "      return;    \n",
    "    else:    \n",
    "        print(\"Adding nodes to the start of the list: \");    \n",
    "        #Prints each node by incrementing pointer.    \n",
    "        print(current.data),    \n",
    "        while(current.next != self.head):    \n",
    "            current = current.next;    \n",
    "            print(current.data),    \n",
    "        print(\"\\n\");    \n",
    "     \n",
    "class CircularLinkedList:    \n",
    "  cl = CreateList();    \n",
    "      \n",
    "  #Adding 1 to the list    \n",
    "  cl.addAtStart(1);    \n",
    "  cl.display();    \n",
    "  #Adding 2 to the list    \n",
    "  cl.addAtStart(2);    \n",
    "  cl.display();    \n",
    "  #Adding 3 to the list    \n",
    "  cl.addAtStart(3);    \n",
    "  cl.display();    \n",
    "  #Adding 4 to the list    \n",
    "  cl.addAtStart(4);    \n",
    "  cl.display();        \n",
    "    "
   ]
  },
  {
   "cell_type": "markdown",
   "metadata": {},
   "source": [
    "# Python program to remove duplicate elements from a Circular Linked List"
   ]
  },
  {
   "cell_type": "code",
   "execution_count": 1,
   "metadata": {},
   "outputs": [
    {
     "ename": "SyntaxError",
     "evalue": "invalid syntax (<ipython-input-1-0fb90738c81f>, line 2)",
     "output_type": "error",
     "traceback": [
      "\u001b[1;36m  File \u001b[1;32m\"<ipython-input-1-0fb90738c81f>\"\u001b[1;36m, line \u001b[1;32m2\u001b[0m\n\u001b[1;33m    In this program, we will create a circular linked list and remove duplicate nodes from the list. We will compare a node with rest of the list and check for the duplicate. If the duplicate is found, delete the duplicate node from the list.\u001b[0m\n\u001b[1;37m       ^\u001b[0m\n\u001b[1;31mSyntaxError\u001b[0m\u001b[1;31m:\u001b[0m invalid syntax\n"
     ]
    }
   ],
   "source": [
    "# Program to remove duplicate elements from a circular linked list.\n",
    "In this program, we will create a circular linked list and remove duplicate nodes from the list. We will compare a node with rest of the list and check for the duplicate. If the duplicate is found, delete the duplicate node from the list.\n",
    "1->2->2->4->3\n",
    "\n",
    "In the above list, we can see, node 2 is present twice in the list. So, we will have a node current that will iterate through the list. The index will point to next node to current. Temp will be pointing to the node previous to index. When a duplicate is found, we delete it by pointing temp.next to index.next. Above list after removing duplicates:\n",
    "1->2->4->3    \n",
    "\n",
    "1.Define a Node class which represents a node in the list. It has two properties data and next which will point to the next node.\n",
    "2.Define another class for creating the circular linked list and it has two nodes: head and tail.\n",
    "3.removeDuplicate() will remove duplicate nodes from the list:\n",
    "    -Node current will point to head and used to traverse through the list.\n",
    "    -The index will point to the next node to current and temp will point to previous node to index.\n",
    "    -We will compare the current.data with the index.data. If the match is found, delete duplicate data by pointing temp's next to index's next.\n",
    "    -Increment index to index.next and current to current .next.\n",
    "    -Repeat step from c to d till all the duplicates are removed.\n"
   ]
  },
  {
   "cell_type": "code",
   "execution_count": 3,
   "metadata": {},
   "outputs": [
    {
     "name": "stdout",
     "output_type": "stream",
     "text": [
      "Originals list: \n",
      "1\n",
      "2\n",
      "3\n",
      "2\n",
      "2\n",
      "4\n",
      "\n",
      "\n",
      "List after removing duplicates: \n",
      "1\n",
      "2\n",
      "3\n",
      "4\n",
      "\n",
      "\n"
     ]
    }
   ],
   "source": [
    "#Represents the node of list.  \n",
    "class Node:  \n",
    "  def __init__(self,data):  \n",
    "    self.data = data\n",
    "    self.next = None\n",
    "  \n",
    "class CreateList:  \n",
    "  #Declaring head and tail pointer as null.  \n",
    "  def __init__(self):  \n",
    "    self.head = Node(None)\n",
    "    self.tail = Node(None) \n",
    "    self.head.next = self.tail  \n",
    "    self.tail.next = self.head  \n",
    "    \n",
    "  #This function will add the new node at the end of the list.  \n",
    "  def add(self,data):  \n",
    "    newNode = Node(data) \n",
    "    #Checks if the list is empty.  \n",
    "    if self.head.data is None:  \n",
    "      #If list is empty, both head and tail would point to new node.  \n",
    "      self.head = newNode  \n",
    "      self.tail = newNode\n",
    "      newNode.next = self.head  \n",
    "    else:  \n",
    "      #tail will point to new node.  \n",
    "      self.tail.next = newNode  \n",
    "      #New node will become new tail.  \n",
    "      self.tail = newNode  \n",
    "      #Since, it is circular linked list tail will point to head.  \n",
    "      self.tail.next = self.head  \n",
    "    \n",
    "  #Removes duplicate from the list  \n",
    "  def removeDuplicate(self):  \n",
    "    #Current will point to head  \n",
    "    current = self.head \n",
    "    if(self.head == None):  \n",
    "      print(\"List is empty\") \n",
    "    else:  \n",
    "      while(True):  \n",
    "        #Temp will point to previous node of index.  \n",
    "        temp = current \n",
    "        #Index will point to node next to current  \n",
    "        index = current.next  \n",
    "        while(index != self.head):  \n",
    "          #If current node is equal to index data  \n",
    "          if(current.data == index.data):  \n",
    "            #Here, index node is pointing to the node which is duplicate of current node  \n",
    "            #Skips the duplicate node by pointing to next node  \n",
    "            temp.next = index.next  \n",
    "          else:  \n",
    "            #Temp will point to previous node of index.  \n",
    "            temp = index  \n",
    "          index= index.next  \n",
    "        current =current.next  \n",
    "        if(current.next == self.head):  \n",
    "          break  \n",
    "            \n",
    "  #Displays all the nodes in the list  \n",
    "  def display(self):  \n",
    "    current = self.head \n",
    "    if self.head is None:  \n",
    "      print(\"List is empty\")  \n",
    "      return \n",
    "    else:  \n",
    "      #Prints each node by incrementing pointer.  \n",
    "      print(current.data)  \n",
    "      while(current.next != self.head):  \n",
    "        current = current.next  \n",
    "        print(current.data) \n",
    "    print(\"\\n\")\n",
    "        \n",
    "class CircularLinkedList:  \n",
    "  cl = CreateList() \n",
    "  #Adds data to the list  \n",
    "  cl.add(1)  \n",
    "  cl.add(2) \n",
    "  cl.add(3)  \n",
    "  cl.add(2) \n",
    "  cl.add(2)  \n",
    "  cl.add(4)  \n",
    "    \n",
    "  print(\"Originals list: \") \n",
    "  cl.display()  \n",
    "  #Removes duplicate nodes  \n",
    "  cl.removeDuplicate()  \n",
    "  print(\"List after removing duplicates: \")  \n",
    "  cl.display()      "
   ]
  },
  {
   "cell_type": "markdown",
   "metadata": {},
   "source": [
    "OUTPUT-\n",
    "\n",
    "Originals list: \n",
    "1\n",
    "2\n",
    "3\n",
    "2\n",
    "2\n",
    "4\n",
    "\n",
    "\n",
    "List after removing duplicates: \n",
    "1\n",
    "2\n",
    "3\n",
    "4"
   ]
  },
  {
   "cell_type": "code",
   "execution_count": null,
   "metadata": {},
   "outputs": [],
   "source": []
  }
 ],
 "metadata": {
  "kernelspec": {
   "display_name": "Python 3",
   "language": "python",
   "name": "python3"
  },
  "language_info": {
   "codemirror_mode": {
    "name": "ipython",
    "version": 3
   },
   "file_extension": ".py",
   "mimetype": "text/x-python",
   "name": "python",
   "nbconvert_exporter": "python",
   "pygments_lexer": "ipython3",
   "version": "3.7.10"
  }
 },
 "nbformat": 4,
 "nbformat_minor": 4
}
