{
 "cells": [
  {
   "cell_type": "markdown",
   "metadata": {},
   "source": [
    "https://www.geeksforgeeks.org/python-programming-examples/"
   ]
  },
  {
   "cell_type": "raw",
   "metadata": {},
   "source": [
    "Basic Programs:\n",
    "\n",
    "Python program to add two numbers\n",
    "Maximum of two numbers in Python\n",
    "Python Program for factorial of a number\n",
    "Python Program for simple interest\n",
    "Python Program for compound interest\n",
    "Python Program to check Armstrong Number\n",
    "Python Program for Program to find area of a circle\n",
    "Python program to print all Prime numbers in an Interval\n",
    "Python program to check whether a number is Prime or not\n",
    "Python Program for n-th Fibonacci number\n",
    "Python Program for How to check if a given number is Fibonacci number?\n",
    "Python Program for n\\’th multiple of a number in Fibonacci Series\n",
    "Program to print ASCII Value of a character\n",
    "Python Program for Sum of squares of first n natural numbers\n",
    "Python Program for cube sum of first n natural numbers\n",
    "\n",
    "Array Programs:\n",
    "\n",
    "Python Program to find sum of array\n",
    "Python Program to find largest element in an array\n",
    "Python Program for array rotation\n",
    "Python Program for Reversal algorithm for array rotation\n",
    "Python Program to Split the array and add the first part to the end\n",
    "Python Program for Find reminder of array multiplication divided by n\n",
    "Python Program to check if given array is Monotonic.\n",
    "\n",
    "List Programs:\n",
    "\n",
    "Python program to interchange first and last elements in a list\n",
    "Python program to swap two elements in a list\n",
    "Python | Ways to find length of list\n",
    "Python | Ways to check if element exists in list\n",
    "Different ways to clear a list in Python\n",
    "Python | Reversing a List\n",
    "Python program to find sum of elements in list\n",
    "Python | Multiply all numbers in the list\n",
    "Python program to find smallest number in a list\n",
    "Python program to find largest number in a list\n",
    "Python program to find second largest number in a list\n",
    "Python program to find N largest elements from a list\n",
    "Python program to print even numbers in a list\n",
    "Python program to print odd numbers in a List\n",
    "Python program to print all even numbers in a range\n",
    "Python program to print all odd numbers in a range\n",
    "Python program to print positive numbers in a list\n",
    "Python program to print negative numbers in a list\n",
    "Python program to print all positive numbers in a range\n",
    "Python program to print all negative numbers in a range\n",
    "Remove multiple elements from a list in Python\n",
    "Python – Remove empty List from List\n",
    "Python | Cloning or Copying a list\n",
    "Python | Count occurrences of an element in a list\n",
    "Python | Remove empty tuples from a list\n",
    "Python | Program to print duplicates from a list of integers\n",
    "Python program to find Cumulative sum of a list\n",
    "Python | Sum of number digits in List\n",
    "Break a list into chunks of size N in Python\n",
    "Python | Sort the values of first list using second list\n",
    "\n",
    "Matrix Programs:\n",
    "\n",
    "Python program to add two Matrices\n",
    "Python program to multiply two matrices\n",
    "Python program for Matrix Product\n",
    "Adding and Subtracting Matrices in Python\n",
    "Transpose a matrix in Single line in Python\n",
    "Python | Matrix creation of n*n\n",
    "Python | Get Kth Column of Matrix\n",
    "Python – Vertical Concatenation in Matrix\n",
    "\n",
    "String Programs:\n",
    "\n",
    "Python program to check if a string is palindrome or not\n",
    "Python program to check whether the string is Symmetrical or Palindrome\n",
    "Reverse words in a given String in Python\n",
    "Ways to remove i’th character from string in Python\n",
    "Python | Check if a Substring is Present in a Given String\n",
    "Python – Words Frequency in String Shorthands\n",
    "Python – Convert Snake case to Pascal case\n",
    "Find length of a string in python (4 ways)\n",
    "Python program to print even length words in a string\n",
    "Python program to accept the strings which contains all vowels\n",
    "Python | Count the Number of matching characters in a pair of string\n",
    "Remove all duplicates from a given string in Python\n",
    "Python – Least Frequent Character in String\n",
    "Python | Maximum frequency character in String\n",
    "Python | Program to check if a string contains any special character\n",
    "Generating random strings until a given string is generated\n",
    "Find words which are greater than given length k\n",
    "Python program for removing i-th character from a string\n",
    "Python program to split and join a string\n",
    "Python | Check if a given string is binary string or not\n",
    "Python program to find uncommon words from two Strings\n",
    "Python – Replace duplicate Occurrence in String\n",
    "Python – Replace multiple words with K\n",
    "Python | Permutation of a given string using inbuilt function\n",
    "Python | Check for URL in a String\n",
    "Execute a String of Code in Python\n",
    "String slicing in Python to rotate a string\n",
    "String slicing in Python to check if a string can become empty by recursive deletion\n",
    "Python Counter| Find all duplicate characters in string\n",
    "Python – Replace all occurrences of a substring in a string.\n",
    "\n",
    "Dictionary Programs:\n",
    "\n",
    "Python – Extract Unique values dictionary values\n",
    "Python program to find the sum of all items in a dictionary\n",
    "Python | Ways to remove a key from dictionary\n",
    "Ways to sort list of dictionaries by values in Python – Using itemgetter\n",
    "Ways to sort list of dictionaries by values in Python – Using lambda function\n",
    "Python | Merging two Dictionaries\n",
    "Python – Convert key-values list to flat dictionary\n",
    "Python – Insertion at the beginning in OrderedDict\n",
    "Python | Check order of character in string using OrderedDict( )\n",
    "Dictionary and counter in Python to find winner of election\n",
    "Python – Append Dictionary Keys and Values ( In order ) in dictionary\n",
    "Python | Sort Python Dictionaries by Key or Value\n",
    "Python – Sort Dictionary key and values List\n",
    "Handling missing keys in Python dictionaries\n",
    "Python dictionary with keys having multiple inputs\n",
    "Print anagrams together in Python using List and Dictionary\n",
    "K’th Non-repeating Character in Python using List Comprehension and OrderedDict\n",
    "Check if binary representations of two numbers are anagram\n",
    "Python Counter to find the size of largest subset of anagram words\n",
    "Python | Remove all duplicates words from a given sentence\n",
    "Python Dictionary to find mirror characters in a string\n",
    "Counting the frequencies in a list using dictionary in Python\n",
    "Python | Convert a list of Tuples into Dictionary\n",
    "Python counter and dictionary intersection example (Make a string using deletion and rearrangement)\n",
    "Python dictionary, set and counter to check if frequencies can become same\n",
    "Scraping And Finding Ordered Words In A Dictionary using Python\n",
    "Possible Words using given characters in Python\n",
    "Python – Keys associated with Values in Dictionary\n",
    "\n",
    "Tuple Programs:\n",
    "\n",
    "Python program to Find the size of a Tuple\n",
    "Python – Maximum and Minimum K elements in Tuple\n",
    "Create a list of tuples from given list having number and its cube in each tuple\n",
    "Python – Adding Tuple to List and vice – versa\n",
    "Python – Closest Pair to Kth index element in Tuple\n",
    "Python – Join Tuples if similar initial element\n",
    "Python – Extract digits from Tuple list\n",
    "Python – All pair combinations of 2 tuples\n",
    "Python – Remove Tuples of Length K\n",
    "Sort a list of tuples by second Item\n",
    "Python program to Order Tuples using external List\n",
    "Python – Flatten tuple of List to tuple\n",
    "Python – Convert Nested Tuple to Custom Key Dictionary\n",
    "\n",
    "Date-Time Programs:\n",
    "\n",
    "Python program to get Current Time\n",
    "Get Current Date and Time using Python\n",
    "Python | Find yesterday’s, today’s and tomorrow’s date\n",
    "Python program to convert time from 12 hour to 24 hour format\n",
    "Python program to find difference between current time and given time\n",
    "Python Program to Create a Lap Timer\n",
    "Convert date string to timestamp in Python\n",
    "How to convert timestamp string to datetime object in Python?\n",
    "Find number of times every day occurs in a Year.\n",
    "\n",
    "Python Regex Programs:\n",
    "\n",
    "Python Program to Check if String Contain Only Defined Characters using Regex\n",
    "Python program to Count Uppercase, Lowercase, special character and numeric values using Regex\n",
    "Python Program to find the most occurring number in a string using Regex\n",
    "Python Regex to extract maximum numeric value from a string\n",
    "Python Program to put spaces between words starting with capital letters using Regex\n",
    "Python – Check whether a string starts and ends with the same character or not\n",
    "Python regex to find sequences of one upper case letter followed by lower case letters\n",
    "Python Program to Remove duplicate words from Sentence\n",
    "Python | Remove all characters except letters and numbers\n",
    "Python Regex | Program to accept string ending with alphanumeric character\n",
    "Python Regex – Program to accept string starting with vowel\n",
    "Python Program to check if a string starts with a substring using regex\n",
    "Python Program to Check if an URL is valid or not using Regular Expression\n",
    "Parsing and Processing URL using Python – Regex\n",
    "Python Program to validate an IP address using ReGex\n",
    "Python Program to Check if email address valid or not\n",
    "Python program to find files having a particular extension using RegEx\n",
    "Python program to extract IP address from file\n",
    "Python program to check the validity of a Password\n",
    "Categorize Password as Strong or Weak using Regex in Python\n"
   ]
  },
  {
   "cell_type": "raw",
   "metadata": {},
   "source": [
    "Adding two number provided by user input\n",
    "\n",
    "filter_none\n",
    "edit\n",
    "play_arrow\n",
    "\n",
    "brightness_4\n",
    "# Python3 program to add two numbers \n",
    "  \n",
    "number1 = input(\"First number: \") \n",
    "number2 = input(\"\\nSecond number: \") \n",
    "  \n",
    "# Adding two numbers \n",
    "# User might also enter float numbers \n",
    "sum = float(number1) + float(number2) \n",
    "  \n",
    "# Display the sum \n",
    "# will print value in float \n",
    "print(\"The sum of {0} and {1} is {2}\" .format(number1, number2, sum)) "
   ]
  },
  {
   "cell_type": "code",
   "execution_count": 6,
   "metadata": {},
   "outputs": [
    {
     "name": "stdout",
     "output_type": "stream",
     "text": [
      "4\n"
     ]
    }
   ],
   "source": [
    "# Python program to find the \n",
    "# maximum of two numbers \n",
    "\n",
    "\n",
    "def maximum(a, b): \n",
    "\t\n",
    "\tif a >= b: \n",
    "\t\treturn a \n",
    "\telse: \n",
    "\t\treturn b \n",
    "\t\n",
    "# Driver code \n",
    "a = 2\n",
    "b = 4\n",
    "print(maximum(a, b)) \n"
   ]
  },
  {
   "cell_type": "code",
   "execution_count": 7,
   "metadata": {},
   "outputs": [
    {
     "name": "stdout",
     "output_type": "stream",
     "text": [
      "Factorial of 5 is 120\n"
     ]
    }
   ],
   "source": [
    "# Python 3 program to find \n",
    "# factorial of given number \n",
    "\n",
    "def factorial(n): \n",
    "\n",
    "\t# single line to find factorial \n",
    "\treturn 1 if (n==1 or n==0) else n * factorial(n - 1) \n",
    "\n",
    "\n",
    "# Driver Code \n",
    "num = 5\n",
    "print (\"Factorial of\",num,\"is\", \n",
    "\tfactorial(num)) \n",
    "\n",
    "# This code is contributed \n",
    "# by Smitha Dinesh Semwal. \n"
   ]
  },
  {
   "cell_type": "code",
   "execution_count": 8,
   "metadata": {},
   "outputs": [
    {
     "name": "stdout",
     "output_type": "stream",
     "text": [
      "The principal is 8\n",
      "The time period is 6\n",
      "The rate of interest is 8\n",
      "The Simple Interest is 3.84\n"
     ]
    },
    {
     "data": {
      "text/plain": [
       "3.84"
      ]
     },
     "execution_count": 8,
     "metadata": {},
     "output_type": "execute_result"
    }
   ],
   "source": [
    "# Python3 program to find simple interest \n",
    "# for given principal amount, time and \n",
    "# rate of interest. \n",
    "\n",
    "\n",
    "def simple_interest(p,t,r): \n",
    "\tprint('The principal is', p) \n",
    "\tprint('The time period is', t) \n",
    "\tprint('The rate of interest is',r) \n",
    "\t\n",
    "\tsi = (p * t * r)/100\n",
    "\t\n",
    "\tprint('The Simple Interest is', si) \n",
    "\treturn si \n",
    "\t\n",
    "# Driver code \n",
    "simple_interest(8, 6, 8) \n"
   ]
  },
  {
   "cell_type": "code",
   "execution_count": 9,
   "metadata": {},
   "outputs": [
    {
     "name": "stdout",
     "output_type": "stream",
     "text": [
      "Compound interest is 6288.946267774416\n"
     ]
    }
   ],
   "source": [
    "# Python3 program to find compound \n",
    "# interest for given values. \n",
    "\n",
    "def compound_interest(principle, rate, time): \n",
    "\n",
    "\t# Calculates compound interest \n",
    "\tAmount = principle * (pow((1 + rate / 100), time)) \n",
    "\tCI = Amount - principle \n",
    "\tprint(\"Compound interest is\", CI) \n",
    "\n",
    "# Driver Code \n",
    "compound_interest(10000, 10.25, 5) \n",
    "\n",
    "# This code is contributed by Abhishek Agrawal. \n"
   ]
  },
  {
   "cell_type": "markdown",
   "metadata": {},
   "source": [
    "Given a number x, determine whether the given number is Armstrong number or not. A positive integer of n digits is called an Armstrong number of order n (order is number of digits) if.\n",
    "\n",
    "abcd... = pow(a,n) + pow(b,n) + pow(c,n) + pow(d,n) + .... "
   ]
  },
  {
   "cell_type": "code",
   "execution_count": 10,
   "metadata": {},
   "outputs": [
    {
     "name": "stdout",
     "output_type": "stream",
     "text": [
      "True\n",
      "False\n"
     ]
    }
   ],
   "source": [
    "# Python program to determine whether \n",
    "# the number is Armstrong number or not \n",
    "\n",
    "# Function to calculate x raised to \n",
    "# the power y \n",
    "def power(x, y): \n",
    "\t\n",
    "\tif y == 0: \n",
    "\t\treturn 1\n",
    "\tif y % 2 == 0: \n",
    "\t\treturn power(x, y // 2) * power(x, y // 2) \n",
    "\t\t\n",
    "\treturn x * power(x, y // 2) * power(x, y // 2) \n",
    "\n",
    "# Function to calculate order of the number \n",
    "def order(x): \n",
    "\n",
    "\t# Variable to store of the number \n",
    "\tn = 0\n",
    "\twhile (x != 0): \n",
    "\t\tn = n + 1\n",
    "\t\tx = x // 10\n",
    "\t\t\n",
    "\treturn n \n",
    "\n",
    "# Function to check whether the given \n",
    "# number is Armstrong number or not \n",
    "def isArmstrong(x): \n",
    "\t\n",
    "\tn = order(x) \n",
    "\ttemp = x \n",
    "\tsum1 = 0\n",
    "\t\n",
    "\twhile (temp != 0): \n",
    "\t\tr = temp % 10\n",
    "\t\tsum1 = sum1 + power(r, n) \n",
    "\t\ttemp = temp // 10\n",
    "\n",
    "\t# If condition satisfies \n",
    "\treturn (sum1 == x) \n",
    "\n",
    "# Driver code \n",
    "x = 153\n",
    "print(isArmstrong(x)) \n",
    "\n",
    "x = 1253\n",
    "print(isArmstrong(x)) \n"
   ]
  },
  {
   "cell_type": "code",
   "execution_count": 11,
   "metadata": {},
   "outputs": [
    {
     "name": "stdout",
     "output_type": "stream",
     "text": [
      "Area is 78.550000\n"
     ]
    }
   ],
   "source": [
    "# Python program to find Area of a circle \n",
    "\n",
    "def findArea(r): \n",
    "\tPI = 3.142\n",
    "\treturn PI * (r*r); \n",
    "\n",
    "# Driver method \n",
    "print(\"Area is %.6f\" % findArea(5)); \n",
    "\n",
    "# This code is contributed by Chinmoy Lenka \n"
   ]
  },
  {
   "cell_type": "code",
   "execution_count": 12,
   "metadata": {},
   "outputs": [
    {
     "ename": "IndentationError",
     "evalue": "expected an indented block (<ipython-input-12-cd138fc75e2e>, line 8)",
     "output_type": "error",
     "traceback": [
      "\u001b[1;36m  File \u001b[1;32m\"<ipython-input-12-cd138fc75e2e>\"\u001b[1;36m, line \u001b[1;32m8\u001b[0m\n\u001b[1;33m    if i>1:\u001b[0m\n\u001b[1;37m     ^\u001b[0m\n\u001b[1;31mIndentationError\u001b[0m\u001b[1;31m:\u001b[0m expected an indented block\n"
     ]
    }
   ],
   "source": [
    "# Python program to print all \n",
    "# prime number in an interval \n",
    "# number should be greater than 1 \n",
    "start = 11\n",
    "end = 25\n",
    "\n",
    "for i in range(start, end+1): \n",
    "if i>1: \n",
    "\tfor j in range(2,i): \n",
    "\t\tif(i % j==0): \n",
    "\t\t\tbreak\n",
    "\telse: \n",
    "\t\tprint(i) \n"
   ]
  },
  {
   "cell_type": "code",
   "execution_count": 13,
   "metadata": {},
   "outputs": [
    {
     "name": "stdout",
     "output_type": "stream",
     "text": [
      "11 is a prime number\n"
     ]
    }
   ],
   "source": [
    "# Python program to check if\n",
    "# given number is prime or not\n",
    "\n",
    "num = 11\n",
    "\n",
    "# If given number is greater than 1\n",
    "if num > 1:\n",
    "\n",
    "\t# Iterate from 2 to n / 2\n",
    "\tfor i in range(2, int(num/2)+1):\n",
    "\n",
    "\t\t# If num is divisible by any number between\n",
    "\t\t# 2 and n / 2, it is not prime\n",
    "\t\tif (num % i) == 0:\n",
    "\t\t\tprint(num, \"is not a prime number\")\n",
    "\t\t\tbreak\n",
    "\telse:\n",
    "\t\tprint(num, \"is a prime number\")\n",
    "\n",
    "else:\n",
    "\tprint(num, \"is not a prime number\")\n"
   ]
  },
  {
   "cell_type": "markdown",
   "metadata": {},
   "source": [
    "In mathematical terms, the sequence Fn of Fibonacci numbers is defined by the recurrence relation \n",
    "\n",
    "Fn = Fn-1 + Fn-2\n",
    "With seed values \n",
    " \n",
    "\n",
    "F0 = 0 and F1 = 1."
   ]
  },
  {
   "cell_type": "code",
   "execution_count": 14,
   "metadata": {},
   "outputs": [
    {
     "name": "stdout",
     "output_type": "stream",
     "text": [
      "21\n"
     ]
    }
   ],
   "source": [
    "# Function for nth Fibonacci number \n",
    "\n",
    "def Fibonacci(n): \n",
    "\tif n<0: \n",
    "\t\tprint(\"Incorrect input\") \n",
    "\t# First Fibonacci number is 0 \n",
    "\telif n==1: \n",
    "\t\treturn 0\n",
    "\t# Second Fibonacci number is 1 \n",
    "\telif n==2: \n",
    "\t\treturn 1\n",
    "\telse: \n",
    "\t\treturn Fibonacci(n-1)+Fibonacci(n-2) \n",
    "\n",
    "# Driver Program \n",
    "\n",
    "print(Fibonacci(9)) \n",
    "\n",
    "#This code is contributed by Saket Modi \n"
   ]
  },
  {
   "cell_type": "markdown",
   "metadata": {},
   "source": [
    "Given a number \\’n\\’, how to check if n is a Fibonacci number. First few Fibonacci numbers are 0, 1, 1, 2, 3, 5, 8, 13, 21, 34, 55, 89, 141, .."
   ]
  },
  {
   "cell_type": "code",
   "execution_count": 16,
   "metadata": {},
   "outputs": [
    {
     "name": "stdout",
     "output_type": "stream",
     "text": [
      "1 is a Fibonacci Number\n",
      "2 is a Fibonacci Number\n",
      "3 is a Fibonacci Number\n",
      "4 is a not Fibonacci Number \n",
      "5 is a Fibonacci Number\n",
      "6 is a not Fibonacci Number \n",
      "7 is a not Fibonacci Number \n",
      "8 is a Fibonacci Number\n",
      "9 is a not Fibonacci Number \n",
      "10 is a not Fibonacci Number \n"
     ]
    }
   ],
   "source": [
    "# python program to check if x is a perfect square \n",
    "import math \n",
    "\n",
    "# A utility function that returns true if x is perfect square \n",
    "def isPerfectSquare(x): \n",
    "\ts = int(math.sqrt(x)) \n",
    "\treturn s*s == x \n",
    "\n",
    "# Returns true if n is a Fibinacci Number, else false \n",
    "def isFibonacci(n): \n",
    "\n",
    "\t# n is Fibinacci if one of 5*n*n + 4 or 5*n*n - 4 or both \n",
    "\t# is a perferct square \n",
    "\treturn isPerfectSquare(5*n*n + 4) or isPerfectSquare(5*n*n - 4) \n",
    "\t\n",
    "# A utility function to test above functions \n",
    "for i in range(1,11): \n",
    "\tif (isFibonacci(i) == True): \n",
    "\t\tprint( i,\"is a Fibonacci Number\")\n",
    "\telse: \n",
    "\t\tprint (i,\"is a not Fibonacci Number \")\n"
   ]
  },
  {
   "cell_type": "code",
   "execution_count": 17,
   "metadata": {},
   "outputs": [
    {
     "name": "stdout",
     "output_type": "stream",
     "text": [
      "The ASCII value of 'g' is 103\n"
     ]
    }
   ],
   "source": [
    "# Python program to print \n",
    "# ASCII Value of Character \n",
    "\n",
    "# In c we can assign different \n",
    "# characters of which we want ASCII value \n",
    "\n",
    "c = 'g'\n",
    "# print the ASCII value of assigned character in c \n",
    "print(\"The ASCII value of '\" + c + \"' is\", ord(c)) \n"
   ]
  },
  {
   "cell_type": "code",
   "execution_count": 18,
   "metadata": {},
   "outputs": [
    {
     "name": "stdout",
     "output_type": "stream",
     "text": [
      "30\n"
     ]
    }
   ],
   "source": [
    "# Python3 Program to \n",
    "# find sum of square \n",
    "# of first n natural \n",
    "# numbers \n",
    "\n",
    "# Return the sum of \n",
    "# square of first n \n",
    "# natural numbers \n",
    "def squaresum(n) : \n",
    "\treturn (n * (n + 1) * (2 * n + 1)) // 6\n",
    "\n",
    "# Driven Program \n",
    "n = 4\n",
    "print(squaresum(n)) \n",
    "\n",
    "#This code is contributed by Nikita Tiwari.\t\t\t\t\t\t\t\t\t\t\t\t\t\t\t \n"
   ]
  },
  {
   "cell_type": "code",
   "execution_count": 19,
   "metadata": {},
   "outputs": [
    {
     "name": "stdout",
     "output_type": "stream",
     "text": [
      "225\n"
     ]
    }
   ],
   "source": [
    "# Efficient Python program to find sum of cubes \n",
    "# of first n natural numbers that avoids \n",
    "# overflow if result is going to be withing \n",
    "# limits. \n",
    "\n",
    "# Returns the sum of series \n",
    "def sumOfSeries(n): \n",
    "\tx = 0\n",
    "\tif n % 2 == 0 : \n",
    "\t\tx = (n/2) * (n+1) \n",
    "\telse: \n",
    "\t\tx = ((n + 1) / 2) * n \n",
    "\t\t\n",
    "\treturn (int)(x * x) \n",
    "\n",
    "\n",
    "# Driver Function \n",
    "n = 5\n",
    "print(sumOfSeries(n)) \n",
    "\n",
    "# Code Contributed by Mohit Gupta_OMG <(0_o)> \n"
   ]
  },
  {
   "cell_type": "code",
   "execution_count": 20,
   "metadata": {},
   "outputs": [
    {
     "name": "stdout",
     "output_type": "stream",
     "text": [
      "Sum of the array is  34\n"
     ]
    }
   ],
   "source": [
    "# Python 3 code to find sum \n",
    "# of elements in given array \n",
    "# driver function \n",
    "arr = [] \n",
    "\n",
    "# input values to list \n",
    "arr = [12, 3, 4, 15] \n",
    "\n",
    "# sum() is an inbuilt function in python that adds \n",
    "# all the elements in list,set and tuples and returns \n",
    "# the value \n",
    "ans = sum(arr) \n",
    "\n",
    "# display sum \n",
    "print ('Sum of the array is ',ans) \n",
    "\n",
    "# This code is contributed by Dhananjay Patil \n"
   ]
  },
  {
   "cell_type": "code",
   "execution_count": 21,
   "metadata": {},
   "outputs": [
    {
     "name": "stdout",
     "output_type": "stream",
     "text": [
      "Largest in given array is 9808\n"
     ]
    }
   ],
   "source": [
    "# Python3 program to find maximum \n",
    "# in arr[] of size n \n",
    "\n",
    "# python function to find maximum \n",
    "# in arr[] of size n \n",
    "def largest(arr,n): \n",
    "\n",
    "\t# Initialize maximum element \n",
    "\tmax = arr[0] \n",
    "\n",
    "\t# Traverse array elements from second \n",
    "\t# and compare every element with \n",
    "\t# current max \n",
    "\tfor i in range(1, n): \n",
    "\t\tif arr[i] > max: \n",
    "\t\t\tmax = arr[i] \n",
    "\treturn max\n",
    "\n",
    "# Driver Code \n",
    "arr = [10, 324, 45, 90, 9808] \n",
    "n = len(arr) \n",
    "Ans = largest(arr,n) \n",
    "print (\"Largest in given array is\",Ans) \n",
    "\n",
    "# This code is contributed by Smitha Dinesh Semwal \n"
   ]
  },
  {
   "cell_type": "code",
   "execution_count": 22,
   "metadata": {},
   "outputs": [
    {
     "name": "stdout",
     "output_type": "stream",
     "text": [
      "[24, 35, 9, 56, 12]\n"
     ]
    }
   ],
   "source": [
    "# Python3 program to swap first \n",
    "# and last element of a list \n",
    "\n",
    "# Swap function \n",
    "def swapList(newList): \n",
    "\t\n",
    "\tnewList[0], newList[-1] = newList[-1], newList[0] \n",
    "\n",
    "\treturn newList \n",
    "\t\n",
    "# Driver code \n",
    "newList = [12, 35, 9, 56, 24] \n",
    "print(swapList(newList)) \n"
   ]
  },
  {
   "cell_type": "code",
   "execution_count": 23,
   "metadata": {},
   "outputs": [
    {
     "name": "stdout",
     "output_type": "stream",
     "text": [
      "[19, 65, 23, 90]\n"
     ]
    }
   ],
   "source": [
    "# Python3 program to swap elements \n",
    "# at given positions \n",
    "\n",
    "def swapPositions(list, pos1, pos2): \n",
    "\tlist[pos1],list[pos2] = list[pos2],list[pos1] \n",
    "\treturn list\n",
    "\n",
    "# Driver Code \n",
    "List = [23, 65, 19, 90] \n",
    "pos1, pos2 = 1, 3\n",
    "print(swapPositions(List, pos1-1, pos2-1)) \n"
   ]
  },
  {
   "cell_type": "code",
   "execution_count": 24,
   "metadata": {},
   "outputs": [
    {
     "name": "stdout",
     "output_type": "stream",
     "text": [
      "GEEK before clear: [6, 0, 4, 1]\n",
      "GEEK after clear: []\n"
     ]
    }
   ],
   "source": [
    "# Python program to clear a list \n",
    "# using clear() method \n",
    "\n",
    "# Creating list \n",
    "GEEK = [6, 0, 4, 1] \n",
    "print('GEEK before clear:', GEEK) \n",
    "\n",
    "# Clearing list \n",
    "GEEK.clear() \n",
    "print('GEEK after clear:', GEEK) \n"
   ]
  },
  {
   "cell_type": "code",
   "execution_count": 25,
   "metadata": {},
   "outputs": [
    {
     "name": "stdout",
     "output_type": "stream",
     "text": [
      "[15, 14, 13, 12, 11, 10]\n"
     ]
    }
   ],
   "source": [
    "# Reversing a list using slicing technique \n",
    "def Reverse(lst): \n",
    "\tnew_lst = lst[::-1] \n",
    "\treturn new_lst \n",
    "\t\n",
    "lst = [10, 11, 12, 13, 14, 15] \n",
    "print(Reverse(lst)) \n"
   ]
  },
  {
   "cell_type": "code",
   "execution_count": 26,
   "metadata": {},
   "outputs": [
    {
     "name": "stdout",
     "output_type": "stream",
     "text": [
      "Sum of all elements in given list:  74\n"
     ]
    }
   ],
   "source": [
    "# Python program to find sum of elements in list\n",
    "total = 0\n",
    "\n",
    "# creating a list\n",
    "list1 = [11, 5, 17, 18, 23] \n",
    "\n",
    "# Iterate each element in list\n",
    "# and add them in variale total\n",
    "for ele in range(0, len(list1)):\n",
    "\ttotal = total + list1[ele]\n",
    "\n",
    "# printing total value\n",
    "print(\"Sum of all elements in given list: \", total)\n"
   ]
  },
  {
   "cell_type": "code",
   "execution_count": 27,
   "metadata": {},
   "outputs": [
    {
     "name": "stdout",
     "output_type": "stream",
     "text": [
      "6\n",
      "24\n"
     ]
    }
   ],
   "source": [
    "# Python program to multiply all values in the\n",
    "# list using traversal\n",
    "\n",
    "def multiplyList(myList) :\n",
    "\t\n",
    "\t# Multiply elements one by one\n",
    "\tresult = 1\n",
    "\tfor x in myList:\n",
    "\t\tresult = result * x \n",
    "\treturn result \n",
    "\t\n",
    "# Driver code\n",
    "list1 = [1, 2, 3] \n",
    "list2 = [3, 2, 4]\n",
    "print(multiplyList(list1))\n",
    "print(multiplyList(list2))\n"
   ]
  },
  {
   "cell_type": "code",
   "execution_count": 28,
   "metadata": {},
   "outputs": [
    {
     "name": "stdout",
     "output_type": "stream",
     "text": [
      "Smallest element is: 4\n"
     ]
    }
   ],
   "source": [
    "# Python program to find smallest \n",
    "# number in a list\n",
    "\n",
    "# list of numbers\n",
    "list1 = [10, 20, 4, 45, 99]\n",
    "\n",
    "# sorting the list\n",
    "list1.sort()\n",
    "\n",
    "# printing the first element\n",
    "print(\"Smallest element is:\", *list1[:1])\n"
   ]
  },
  {
   "cell_type": "code",
   "execution_count": 29,
   "metadata": {},
   "outputs": [
    {
     "name": "stdout",
     "output_type": "stream",
     "text": [
      "Largest element is: 99\n"
     ]
    }
   ],
   "source": [
    "# Python program to find largest \n",
    "# number in a list \n",
    "\n",
    "# list of numbers \n",
    "list1 = [10, 20, 4, 45, 99] \n",
    "\n",
    "# sorting the list \n",
    "list1.sort() \n",
    "\n",
    "# printing the last element \n",
    "print(\"Largest element is:\", list1[-1]) \n"
   ]
  },
  {
   "cell_type": "code",
   "execution_count": 30,
   "metadata": {},
   "outputs": [
    {
     "name": "stdout",
     "output_type": "stream",
     "text": [
      "[298, 900, 1000, 3579]\n"
     ]
    }
   ],
   "source": [
    "# Python program to find N largest \n",
    "# element from given list of integers \n",
    "\n",
    "l = [1000,298,3579,100,200,-45,900] \n",
    "n = 4\n",
    "\n",
    "l.sort() \n",
    "print(l[-n:]) \n"
   ]
  },
  {
   "cell_type": "code",
   "execution_count": 32,
   "metadata": {},
   "outputs": [
    {
     "name": "stdout",
     "output_type": "stream",
     "text": [
      "10 4 66 "
     ]
    }
   ],
   "source": [
    "# Python program to print Even Numbers in a List \n",
    "\n",
    "# list of numbers \n",
    "list1 = [10, 21, 4, 45, 66, 93] \n",
    "\n",
    "# iterating each number in list \n",
    "for num in list1: \n",
    "\t\n",
    "\t# checking condition \n",
    "\tif num % 2 == 0: \n",
    "\t    print(num, end = \" \") \n"
   ]
  },
  {
   "cell_type": "code",
   "execution_count": 33,
   "metadata": {},
   "outputs": [
    {
     "name": "stdout",
     "output_type": "stream",
     "text": [
      "21 45 93 "
     ]
    }
   ],
   "source": [
    "# Python program to print odd Numbers in a List \n",
    "\n",
    "# list of numbers \n",
    "list1 = [10, 21, 4, 45, 66, 93] \n",
    "\n",
    "# iterating each number in list \n",
    "for num in list1: \n",
    "\t\n",
    "\t# checking condition \n",
    "\tif num % 2 != 0: \n",
    "\t    print(num, end = \" \") \n"
   ]
  },
  {
   "cell_type": "code",
   "execution_count": 35,
   "metadata": {},
   "outputs": [
    {
     "name": "stdout",
     "output_type": "stream",
     "text": [
      "11 0 45 66 "
     ]
    }
   ],
   "source": [
    "# Python program to print positive Numbers in a List \n",
    "\n",
    "# list of numbers \n",
    "list1 = [11, -21, 0, 45, 66, -93] \n",
    "\n",
    "# iterating each number in list \n",
    "for num in list1: \n",
    "\t\n",
    "\t# checking condition \n",
    "\tif num >= 0: \n",
    "\t  print(num, end = \" \") \n"
   ]
  },
  {
   "cell_type": "code",
   "execution_count": 36,
   "metadata": {},
   "outputs": [
    {
     "name": "stdout",
     "output_type": "stream",
     "text": [
      "-21 -93 "
     ]
    }
   ],
   "source": [
    "# Python program to print negative Numbers in a List \n",
    "\n",
    "# list of numbers \n",
    "list1 = [11, -21, 0, 45, 66, -93] \n",
    "\n",
    "# iterating each number in list \n",
    "for num in list1: \n",
    "\t\n",
    "\t# checking condition \n",
    "\tif num < 0: \n",
    "\t print(num, end = \" \") \n"
   ]
  },
  {
   "cell_type": "code",
   "execution_count": 37,
   "metadata": {},
   "outputs": [
    {
     "name": "stdout",
     "output_type": "stream",
     "text": [
      "0 1 2 3 4 5 6 7 8 9 10 11 12 13 14 15 16 17 18 19 "
     ]
    }
   ],
   "source": [
    "# Python program to print positive Numbers in given range \n",
    "\n",
    "start, end = -4, 19\n",
    "\n",
    "# iterating each number in list \n",
    "for num in range(start, end + 1): \n",
    "\t\n",
    "\t# checking condition \n",
    "\tif num >= 0: \n",
    "\t\tprint(num, end = \" \") \n"
   ]
  },
  {
   "cell_type": "code",
   "execution_count": 38,
   "metadata": {},
   "outputs": [
    {
     "name": "stdout",
     "output_type": "stream",
     "text": [
      "New list after removing unwanted numbers:  [17, 18, 23, 50]\n"
     ]
    }
   ],
   "source": [
    "# Python program to remove multiple \n",
    "# elements from a list \n",
    "\n",
    "# creating a list \n",
    "list1 = [11, 5, 17, 18, 23, 50] \n",
    "\n",
    "# items to be removed \n",
    "unwanted_num = {11, 5} \n",
    "\n",
    "list1 = [ele for ele in list1 if ele not in unwanted_num] \n",
    "\n",
    "# printing modified list \n",
    "print(\"New list after removing unwanted numbers: \", list1) \n"
   ]
  },
  {
   "cell_type": "code",
   "execution_count": 39,
   "metadata": {},
   "outputs": [
    {
     "name": "stdout",
     "output_type": "stream",
     "text": [
      "The original list is : [5, 6, [], 3, [], [], 9]\n",
      "List after empty list removal : [5, 6, 3, 9]\n"
     ]
    }
   ],
   "source": [
    "# Python3 code to demonstrate \n",
    "# Remove empty List from List \n",
    "# using list comprehension \n",
    "\n",
    "# Initializing list \n",
    "test_list = [5, 6, [], 3, [], [], 9] \n",
    "\n",
    "# printing original list \n",
    "print(\"The original list is : \" + str(test_list)) \n",
    "\n",
    "# Remove empty List from List \n",
    "# using list comprehension \n",
    "res = [ele for ele in test_list if ele != []] \n",
    "\n",
    "# printing result \n",
    "print (\"List after empty list removal : \" + str(res)) \n"
   ]
  },
  {
   "cell_type": "code",
   "execution_count": 40,
   "metadata": {},
   "outputs": [
    {
     "name": "stdout",
     "output_type": "stream",
     "text": [
      "The original list is : [5, 6, [], 3, [], [], 9]\n",
      "List after empty list removal : [5, 6, 3, 9]\n"
     ]
    }
   ],
   "source": [
    "# Python3 code to demonstrate \n",
    "# Remove empty List from List \n",
    "# using filter() \n",
    "\n",
    "# Initializing list \n",
    "test_list = [5, 6, [], 3, [], [], 9] \n",
    "\n",
    "# printing original list \n",
    "print(\"The original list is : \" + str(test_list)) \n",
    "\n",
    "# Remove empty List from List \n",
    "# using filter \n",
    "res = list(filter(None, test_list)) \n",
    "\n",
    "# printing result \n",
    "print (\"List after empty list removal : \" + str(res)) \n"
   ]
  },
  {
   "cell_type": "code",
   "execution_count": 41,
   "metadata": {},
   "outputs": [
    {
     "name": "stdout",
     "output_type": "stream",
     "text": [
      "8 has occurred 5 times\n"
     ]
    }
   ],
   "source": [
    "# Python code to count the number of occurrences \n",
    "def countX(lst, x): \n",
    "\tcount = 0\n",
    "\tfor ele in lst: \n",
    "\t\tif (ele == x): \n",
    "\t\t\tcount = count + 1\n",
    "\treturn count \n",
    "\n",
    "# Driver Code \n",
    "lst = [8, 6, 8, 10, 8, 20, 10, 8, 8] \n",
    "x = 8\n",
    "print('{} has occurred {} times'.format(x, countX(lst, x))) \n"
   ]
  },
  {
   "cell_type": "code",
   "execution_count": 42,
   "metadata": {},
   "outputs": [
    {
     "name": "stdout",
     "output_type": "stream",
     "text": [
      "8 has occurred 5 times\n"
     ]
    }
   ],
   "source": [
    "# Python code to count the number of occurrences \n",
    "def countX(lst, x): \n",
    "\treturn lst.count(x) \n",
    "\n",
    "# Driver Code \n",
    "lst = [8, 6, 8, 10, 8, 20, 10, 8, 8] \n",
    "x = 8\n",
    "print('{} has occurred {} times'.format(x, countX(lst, x))) \n"
   ]
  },
  {
   "cell_type": "code",
   "execution_count": 43,
   "metadata": {},
   "outputs": [
    {
     "name": "stdout",
     "output_type": "stream",
     "text": [
      "3 has occurred 2 times\n"
     ]
    }
   ],
   "source": [
    "from collections import Counter \n",
    "\n",
    "# declaring the list \n",
    "l = [1, 1, 2, 2, 3, 3, 4, 4, 5, 5] \n",
    "\n",
    "# driver program \n",
    "x = 3\n",
    "d = Counter(l) \n",
    "print('{} has occurred {} times'.format(x, d[x])) \n"
   ]
  },
  {
   "cell_type": "code",
   "execution_count": 44,
   "metadata": {},
   "outputs": [
    {
     "name": "stdout",
     "output_type": "stream",
     "text": [
      "<filter object at 0x000001454E5A04C8>\n"
     ]
    }
   ],
   "source": [
    "# Python program to remove empty tuples from \n",
    "# a list of tuples function to remove empty \n",
    "# tuples using filter \n",
    "def Remove(tuples): \n",
    "\ttuples = filter(None, tuples) \n",
    "\treturn tuples \n",
    "\n",
    "# Driver Code \n",
    "tuples = [(), ('ram','15','8'), (), ('laxman', 'sita'), \n",
    "\t\t('krishna', 'akbar', '45'), ('',''),()] \n",
    "print (Remove(tuples)) \n"
   ]
  },
  {
   "cell_type": "code",
   "execution_count": 45,
   "metadata": {},
   "outputs": [
    {
     "name": "stdout",
     "output_type": "stream",
     "text": [
      "[10, 30, 60, 100, 150]\n"
     ]
    }
   ],
   "source": [
    "list=[10,20,30,40,50]\n",
    "new_list=[] \n",
    "j=0\n",
    "for i in range(0,len(list)):\n",
    "\tj+=list[i]\n",
    "\tnew_list.append(j) \n",
    "\t\n",
    "print(new_list) \n",
    "#code given by Divyanshu singh\n"
   ]
  },
  {
   "cell_type": "code",
   "execution_count": 46,
   "metadata": {},
   "outputs": [
    {
     "name": "stdout",
     "output_type": "stream",
     "text": [
      "The original list is : [12, 67, 98, 34]\n"
     ]
    },
    {
     "ename": "TypeError",
     "evalue": "'list' object is not callable",
     "output_type": "error",
     "traceback": [
      "\u001b[1;31m---------------------------------------------------------------------------\u001b[0m",
      "\u001b[1;31mTypeError\u001b[0m                                 Traceback (most recent call last)",
      "\u001b[1;32m<ipython-input-46-a669ed308b63>\u001b[0m in \u001b[0;36m<module>\u001b[1;34m\u001b[0m\n\u001b[0;32m     11\u001b[0m \u001b[1;31m# Sum of number digits in List\u001b[0m\u001b[1;33m\u001b[0m\u001b[1;33m\u001b[0m\u001b[1;33m\u001b[0m\u001b[0m\n\u001b[0;32m     12\u001b[0m \u001b[1;31m# using sum() + list comprehension\u001b[0m\u001b[1;33m\u001b[0m\u001b[1;33m\u001b[0m\u001b[1;33m\u001b[0m\u001b[0m\n\u001b[1;32m---> 13\u001b[1;33m \u001b[0mres\u001b[0m \u001b[1;33m=\u001b[0m \u001b[0mlist\u001b[0m\u001b[1;33m(\u001b[0m\u001b[0mmap\u001b[0m\u001b[1;33m(\u001b[0m\u001b[1;32mlambda\u001b[0m \u001b[0mele\u001b[0m\u001b[1;33m:\u001b[0m \u001b[0msum\u001b[0m\u001b[1;33m(\u001b[0m\u001b[0mint\u001b[0m\u001b[1;33m(\u001b[0m\u001b[0msub\u001b[0m\u001b[1;33m)\u001b[0m \u001b[1;32mfor\u001b[0m \u001b[0msub\u001b[0m \u001b[1;32min\u001b[0m \u001b[0mstr\u001b[0m\u001b[1;33m(\u001b[0m\u001b[0mele\u001b[0m\u001b[1;33m)\u001b[0m\u001b[1;33m)\u001b[0m\u001b[1;33m,\u001b[0m \u001b[0mtest_list\u001b[0m\u001b[1;33m)\u001b[0m\u001b[1;33m)\u001b[0m\u001b[1;33m\u001b[0m\u001b[1;33m\u001b[0m\u001b[0m\n\u001b[0m\u001b[0;32m     14\u001b[0m \u001b[1;33m\u001b[0m\u001b[0m\n\u001b[0;32m     15\u001b[0m \u001b[1;31m# printing result\u001b[0m\u001b[1;33m\u001b[0m\u001b[1;33m\u001b[0m\u001b[1;33m\u001b[0m\u001b[0m\n",
      "\u001b[1;31mTypeError\u001b[0m: 'list' object is not callable"
     ]
    }
   ],
   "source": [
    "# Python3 code to demonstrate \n",
    "# Sum of number digits in List \n",
    "# using sum() + list comprehension \n",
    "\n",
    "# Initializing list \n",
    "test_list = [12, 67, 98, 34] \n",
    "\n",
    "# printing original list \n",
    "print(\"The original list is : \" + str(test_list)) \n",
    "\n",
    "# Sum of number digits in List \n",
    "# using sum() + list comprehension \n",
    "res = list(map(lambda ele: sum(int(sub) for sub in str(ele)), test_list)) \n",
    "\t\n",
    "# printing result \n",
    "print (\"List Integer Summation : \" + str(res)) \n"
   ]
  },
  {
   "cell_type": "code",
   "execution_count": 47,
   "metadata": {},
   "outputs": [
    {
     "name": "stdout",
     "output_type": "stream",
     "text": [
      "[[1, 2, 3, 4], [5, 6, 7, 8], [9]]\n"
     ]
    }
   ],
   "source": [
    "l = [1, 2, 3, 4, 5, 6, 7, 8, 9] \n",
    "\n",
    "# How many elements each \n",
    "# list should have \n",
    "n = 4\n",
    "\n",
    "# using list comprehension \n",
    "x = [l[i:i + n] for i in range(0, len(l), n)] \n",
    "print(x) \n"
   ]
  },
  {
   "cell_type": "code",
   "execution_count": 48,
   "metadata": {},
   "outputs": [
    {
     "name": "stdout",
     "output_type": "stream",
     "text": [
      "['a', 'd', 'h', 'b', 'c', 'e', 'i', 'f', 'g']\n",
      "['g', 'k', 'r', 'e', 'e', 'g', 's', 'f', 'o']\n"
     ]
    }
   ],
   "source": [
    "# Python program to sort \n",
    "# one list using\n",
    "# the other list\n",
    "\n",
    "def sort_list(list1, list2):\n",
    "\n",
    "\tzipped_pairs = zip(list2, list1)\n",
    "\n",
    "\tz = [x for _, x in sorted(zipped_pairs)]\n",
    "\t\n",
    "\treturn z\n",
    "\t\n",
    "\n",
    "# driver code\n",
    "x = [\"a\", \"b\", \"c\", \"d\", \"e\", \"f\", \"g\", \"h\", \"i\"]\n",
    "y = [ 0, 1, 1, 0, 1, 2, 2, 0, 1]\n",
    "\n",
    "print(sort_list(x, y))\n",
    "\n",
    "x = [\"g\", \"e\", \"e\", \"k\", \"s\", \"f\", \"o\", \"r\", \"g\", \"e\", \"e\", \"k\", \"s\"]\n",
    "y = [ 0, 1, 1, 0, 1, 2, 2, 0, 1]\n",
    "\n",
    "print(sort_list(x, y))\n"
   ]
  },
  {
   "cell_type": "code",
   "execution_count": null,
   "metadata": {},
   "outputs": [],
   "source": [
    "# function which return reverse of a string\n",
    "\n",
    "def isPalindrome(s):\n",
    "\treturn s == s[::-1]\n",
    "\n",
    "\n",
    "# Driver code\n",
    "s = \"malayalam\"\n",
    "ans = isPalindrome(s)\n",
    "\n",
    "if ans:\n",
    "\tprint(\"Yes\")\n",
    "else:\n",
    "\tprint(\"No\")\n"
   ]
  },
  {
   "cell_type": "code",
   "execution_count": null,
   "metadata": {},
   "outputs": [],
   "source": [
    "# Function to reverse words of string \n",
    "\n",
    "def rev_sentence(sentence): \n",
    "\n",
    "\t# first split the string into words \n",
    "\twords = sentence.split(' ') \n",
    "\n",
    "\t# then reverse the split string list and join using space \n",
    "\treverse_sentence = ' '.join(reversed(words)) \n",
    "\n",
    "\t# finally return the joined string \n",
    "\treturn reverse_sentence \n",
    "\n",
    "if __name__ == \"__main__\": \n",
    "\tinput = 'geeks quiz practice code'\n",
    "\tprint (rev_sentence(input)) \n"
   ]
  },
  {
   "cell_type": "code",
   "execution_count": null,
   "metadata": {},
   "outputs": [],
   "source": [
    "# Python code to demonstrate \n",
    "# method to remove i'th character \n",
    "# using join() + list comprehension \n",
    "\n",
    "# Initializing String \n",
    "test_str = \"GeeksForGeeks\"\n",
    "\n",
    "# Printing original string \n",
    "print (\"The original string is : \" + test_str) \n",
    "\n",
    "# Removing char at pos 3 \n",
    "# using join() + list comprehension \n",
    "new_str = ''.join([test_str[i] for i in range(len(test_str)) if i != 2]) \n",
    "\n",
    "# Printing string after removal \n",
    "# removes ele. at 3rd index \n",
    "print (\"The string after removal of i'th character : \" + new_str) \n"
   ]
  },
  {
   "cell_type": "code",
   "execution_count": null,
   "metadata": {},
   "outputs": [],
   "source": [
    "# function to check if small string is \n",
    "# there in big string \n",
    "def check(string, sub_str): \n",
    "\tif (string.find(sub_str) == -1): \n",
    "\t\tprint(\"NO\") \n",
    "\telse: \n",
    "\t\tprint(\"YES\") \n",
    "\t\t\t\n",
    "# driver code \n",
    "string = \"geeks for geeks\"\n",
    "sub_str =\"geek\"\n",
    "check(string, sub_str) \n"
   ]
  },
  {
   "cell_type": "code",
   "execution_count": null,
   "metadata": {},
   "outputs": [],
   "source": [
    "# Python3 code to demonstrate working of \n",
    "# Words Frequency in String Shorthands \n",
    "# Using Counter() + split() \n",
    "from collections import Counter \n",
    "\n",
    "# initializing string \n",
    "test_str = 'Gfg is best . Geeks are good and Geeks like Gfg'\n",
    "\n",
    "# printing original string \n",
    "print(\"The original string is : \" + str(test_str)) \n",
    "\n",
    "# Words Frequency in String Shorthands \n",
    "# Using Counter() + split() \n",
    "res = Counter(test_str.split()) \n",
    "\n",
    "# printing result \n",
    "print(\"The words frequency : \" + str(dict(res))) \n"
   ]
  },
  {
   "cell_type": "code",
   "execution_count": null,
   "metadata": {},
   "outputs": [],
   "source": [
    "# Python3 code to demonstrate working of \n",
    "# Convert Snake case to Pascal case \n",
    "# Using title() + replace() \n",
    "\n",
    "# initializing string \n",
    "test_str = 'geeksforgeeks_is_best'\n",
    "\n",
    "# printing original string \n",
    "print(\"The original string is : \" + test_str) \n",
    "\n",
    "# Convert Snake case to Pascal case \n",
    "# Using title() + replace() \n",
    "res = test_str.replace(\"_\", \" \").title().replace(\" \", \"\") \n",
    "\n",
    "# printing result \n",
    "print(\"The String after changing case : \" + str(res)) \n"
   ]
  },
  {
   "cell_type": "code",
   "execution_count": null,
   "metadata": {},
   "outputs": [],
   "source": [
    "# Python3 program to print \n",
    "# even length words in a string \n",
    "\n",
    "def printWords(s): \n",
    "\t\n",
    "\t# split the string \n",
    "\ts = s.split(' ') \n",
    "\t\n",
    "\t# iterate in words of string \n",
    "\tfor word in s: \n",
    "\t\t\n",
    "\t\t# if length is even \n",
    "\t\tif len(word)%2==0: \n",
    "\t\t\tprint(word) \n",
    "\n",
    "\n",
    "# Driver Code \n",
    "s = \"i am muskan\"\n",
    "printWords(s) \n"
   ]
  },
  {
   "cell_type": "code",
   "execution_count": null,
   "metadata": {},
   "outputs": [],
   "source": [
    "# Count the Number of matching characters in \n",
    "# a pair of string \n",
    "import re \n",
    "ip1 = \"geeks\"\n",
    "ip2 = \"geeksonly\"\n",
    "\n",
    "c = 0\n",
    "for i in ip1: \n",
    "\tif re.search(i,ip2): \n",
    "\t\tc=c+1\n",
    "print(\"No. of matching characters are \", c) \n"
   ]
  },
  {
   "cell_type": "code",
   "execution_count": 1,
   "metadata": {},
   "outputs": [
    {
     "name": "stdout",
     "output_type": "stream",
     "text": [
      "The original string is : GeeksforGeeks\n",
      "The minimum of all characters in GeeksforGeeks is : f\n"
     ]
    }
   ],
   "source": [
    "# Python 3 code to demonstrate \n",
    "# Least Frequent Character in String \n",
    "# collections.Counter() + min() \n",
    "from collections import Counter \n",
    "\n",
    "# initializing string \n",
    "test_str = \"GeeksforGeeks\"\n",
    "\n",
    "# printing original string \n",
    "print (\"The original string is : \" + test_str) \n",
    "\n",
    "# using collections.Counter() + min() to get \n",
    "# Least Frequent Character in String \n",
    "res = Counter(test_str) \n",
    "res = min(res, key = res.get) \n",
    "\n",
    "# printing result \n",
    "print (\"The minimum of all characters in GeeksforGeeks is : \" + str(res)) \n"
   ]
  },
  {
   "cell_type": "code",
   "execution_count": null,
   "metadata": {},
   "outputs": [],
   "source": [
    "# Python 3 code to demonstrate \n",
    "# Maximum frequency character in String \n",
    "# naive method \n",
    "\n",
    "# initializing string \n",
    "test_str = \"GeeksforGeeks\"\n",
    "\n",
    "# printing original string \n",
    "print (\"The original string is : \" + test_str) \n",
    "\n",
    "# using naive method to get \n",
    "# Maximum frequency character in String \n",
    "all_freq = {} \n",
    "for i in test_str: \n",
    "\tif i in all_freq: \n",
    "\t\tall_freq[i] += 1\n",
    "\telse: \n",
    "\t\tall_freq[i] = 1\n",
    "res = max(all_freq, key = all_freq.get) \n",
    "\n",
    "# printing result \n",
    "print (\"The maximum of all characters in GeeksforGeeks is : \" + str(res)) \n"
   ]
  },
  {
   "cell_type": "code",
   "execution_count": null,
   "metadata": {},
   "outputs": [],
   "source": [
    "# Python program to find all string \n",
    "# which are greater than given length k \n",
    "\n",
    "# function find sttring greater than length k \n",
    "def string_k(k, str): \n",
    "\t\n",
    "\t# create the empty string \n",
    "\tstring = [] \n",
    "\t\n",
    "\t# split the string where space is comes \n",
    "\ttext = str.split(\" \") \n",
    "\t\n",
    "\t# iterate the loop till every substring \n",
    "\tfor x in text: \n",
    "\t\t\n",
    "\t\t# if length of current sub string \n",
    "\t\t# is greater than k then \n",
    "\t\tif len(x) > k: \n",
    "\t\t\t\n",
    "\t\t\t# append this sub string in \n",
    "\t\t\t# string list \n",
    "\t\t\tstring.append(x) \n",
    "\t\t\t\n",
    "\t# return string list \n",
    "\treturn string \n",
    "\n",
    "\n",
    "# Driver Program\t \n",
    "k = 3\n",
    "str =\"geek for geeks\"\n",
    "print(string_k(k, str)) \n"
   ]
  },
  {
   "cell_type": "code",
   "execution_count": null,
   "metadata": {},
   "outputs": [],
   "source": [
    "# Python program to check \n",
    "# if a string is binary or not \n",
    "\n",
    "# function for checking the \n",
    "# string is accepted or not \n",
    "def check(string) : \n",
    "\n",
    "\t# set function convert string \n",
    "\t# into set of characters . \n",
    "\tp = set(string) \n",
    "\n",
    "\t# declare set of '0', '1' . \n",
    "\ts = {'0', '1'} \n",
    "\n",
    "\t# check set p is same as set s \n",
    "\t# or set p contains only '0' \n",
    "\t# or set p contains only '1' \n",
    "\t# or not, if any one condition \n",
    "\t# is true then string is accepted \n",
    "\t# otherwise not . \n",
    "\tif s == p or p == {'0'} or p == {'1'}: \n",
    "\t\tprint(\"Yes\") \n",
    "\telse : \n",
    "\t\tprint(\"No\") \n",
    "\n",
    "\n",
    "\t\t\n",
    "# driver code \n",
    "if __name__ == \"__main__\" : \n",
    "\n",
    "\tstring = \"101010000111\"\n",
    "\n",
    "\t# function calling \n",
    "\tcheck(string) \n"
   ]
  },
  {
   "cell_type": "code",
   "execution_count": null,
   "metadata": {},
   "outputs": [],
   "source": [
    "# Python3 program to find a list of uncommon words \n",
    "\n",
    "# Function to return all uncommon words \n",
    "def UncommonWords(A, B): \n",
    "\n",
    "\t# count will contain all the word counts \n",
    "\tcount = {} \n",
    "\t\n",
    "\t# insert words of string A to hash \n",
    "\tfor word in A.split(): \n",
    "\t\tcount[word] = count.get(word, 0) + 1\n",
    "\t\n",
    "\t# insert words of string B to hash \n",
    "\tfor word in B.split(): \n",
    "\t\tcount[word] = count.get(word, 0) + 1\n",
    "\n",
    "\t# return required list of words \n",
    "\treturn [word for word in count if count[word] == 1] \n",
    "\n",
    "# Driver Code \n",
    "A = \"Geeks for Geeks\"\n",
    "B = \"Learning from Geeks for Geeks\"\n",
    "\n",
    "# Print required answer \n",
    "print(UncommonWords(A, B)) \n"
   ]
  },
  {
   "cell_type": "code",
   "execution_count": null,
   "metadata": {},
   "outputs": [],
   "source": [
    "# Python3 code to demonstrate working of \n",
    "# Replace duplicate Occurrence in String \n",
    "# Using keys() + index() + list comprehension \n",
    "\n",
    "# initializing string \n",
    "test_str = 'Gfg is best . Gfg also has Classes now. Classes help understand better . '\n",
    "\n",
    "# printing original string \n",
    "print(\"The original string is : \" + str(test_str)) \n",
    "\n",
    "# initializing replace mapping \n",
    "repl_dict = {'Gfg' : 'It', 'Classes' : 'They' } \n",
    "\n",
    "# Replace duplicate Occurrence in String \n",
    "# Using keys() + index() + list comprehension \n",
    "test_list = test_str.split(' ') \n",
    "res = ' '.join([repl_dict.get(val) if val in repl_dict.keys() and test_list.index(val) != idx \n",
    "\t\t\t\t\t\t\t\telse val for idx, val in enumerate(test_list)]) \n",
    "\n",
    "# printing result \n",
    "print(\"The string after replacing : \" + str(res)) \n"
   ]
  },
  {
   "cell_type": "code",
   "execution_count": null,
   "metadata": {},
   "outputs": [],
   "source": [
    "# Python3 code to demonstrate working of \n",
    "# Replace multiple words with K \n",
    "# Using join() + split() + list comprehension \n",
    "\n",
    "# initializing string \n",
    "test_str = 'Geeksforgeeks is best for geeks and CS'\n",
    "\n",
    "# printing original string \n",
    "print(\"The original string is : \" + str(test_str)) \n",
    "\n",
    "# initializing word list \n",
    "word_list = [\"best\", 'CS', 'for'] \n",
    "\n",
    "# initializing replace word \n",
    "repl_wrd = 'gfg'\n",
    "\n",
    "# Replace multiple words with K \n",
    "# Using join() + split() + list comprehension \n",
    "res = ' '.join([repl_wrd if idx in word_list else idx for idx in test_str.split()]) \n",
    "\n",
    "# printing result \n",
    "print(\"String after multiple replace : \" + str(res)) \n"
   ]
  },
  {
   "cell_type": "code",
   "execution_count": null,
   "metadata": {},
   "outputs": [],
   "source": [
    "from itertools import permutations \n",
    "import string \n",
    "\n",
    "s = \"GEEK\"\n",
    "a = string.ascii_letters \n",
    "p = permutations(s) \n",
    "\n",
    "# Create a dictionary \n",
    "d = [] \n",
    "for i in list(p): \n",
    "\n",
    "\t# Print only if not in dictionary \n",
    "\tif (i not in d): \n",
    "\t\td.append(i) \n",
    "\t\tprint(''.join(i)) \n"
   ]
  },
  {
   "cell_type": "code",
   "execution_count": null,
   "metadata": {},
   "outputs": [],
   "source": [
    "# Python code to find the URL from an input string \n",
    "# Using the regular expression \n",
    "import re \n",
    "\n",
    "def Find(string): \n",
    "\n",
    "\t# findall() has been used \n",
    "\t# with valid conditions for urls in string \n",
    "\tregex = r\"(?i)\\b((?:https?://|www\\d{0,3}[.]|[a-z0-9.\\-]+[.][a-z]{2,4}/)(?:[^\\s()<>]+|\\(([^\\s()<>]+|(\\([^\\s()<>]+\\)))*\\))+(?:\\(([^\\s()<>]+|(\\([^\\s()<>]+\\)))*\\)|[^\\s`!()\\[\\]{};:'\\\".,<>?«»“”‘’]))\"\n",
    "\turl = re.findall(regex,string)\t \n",
    "\treturn [x[0] for x in url] \n",
    "\t\n",
    "# Driver Code \n",
    "string = 'My Profile: https://auth.geeksforgeeks.org/user/Chinmoy%20Lenka/articles in the portal of http://www.geeksforgeeks.org/'\n",
    "print(\"Urls: \", Find(string)) \n"
   ]
  },
  {
   "cell_type": "code",
   "execution_count": null,
   "metadata": {},
   "outputs": [],
   "source": [
    "# Function to rotate string left and right by d length \n",
    "\n",
    "def rotate(input,d): \n",
    "\n",
    "\t# slice string in two parts for left and right \n",
    "\tLfirst = input[0 : d] \n",
    "\tLsecond = input[d :] \n",
    "\tRfirst = input[0 : len(input)-d] \n",
    "\tRsecond = input[len(input)-d : ] \n",
    "\n",
    "\t# now concatenate two parts together \n",
    "\tprint (\"Left Rotation : \", (Lsecond + Lfirst) ) \n",
    "\tprint (\"Right Rotation : \", (Rsecond + Rfirst)) \n",
    "\n",
    "# Driver program \n",
    "if __name__ == \"__main__\": \n",
    "\tinput = 'GeeksforGeeks'\n",
    "\td=2\n",
    "\trotate(input,d) \n"
   ]
  },
  {
   "cell_type": "code",
   "execution_count": null,
   "metadata": {},
   "outputs": [],
   "source": [
    "from collections import Counter \n",
    "\n",
    "def find_dup_char(input): \n",
    "\n",
    "\t# now create dictionary using counter method \n",
    "\t# which will have strings as key and their \n",
    "\t# frequencies as value \n",
    "\tWC = Counter(input) \n",
    "\tj = -1\n",
    "\t\n",
    "\t\n",
    "\t# Finding no. of occurrence of a character \n",
    "\t# and get the index of it. \n",
    "\tfor i in WC.values(): \n",
    "\t\tj = j + 1\n",
    "\t\tif( i > 1 ): \n",
    "\t\t\tprint WC.keys()[j], \n",
    "\n",
    "# Driver program \n",
    "if __name__ == \"__main__\": \n",
    "\tinput = 'geeksforgeeks'\n",
    "\tfind_dup_char(input) \n"
   ]
  },
  {
   "cell_type": "code",
   "execution_count": null,
   "metadata": {},
   "outputs": [],
   "source": [
    "# Python3 code to demonstrate working of \n",
    "# Swap Binary substring \n",
    "# Using translate() \n",
    "\n",
    "# initializing string \n",
    "test_str = \"geeksforgeeks\"\n",
    "\n",
    "# printing original string \n",
    "print(\"The original string is : \" + test_str) \n",
    "\n",
    "# Swap Binary substring \n",
    "# Using translate() \n",
    "temp = str.maketrans(\"geek\", \"abcd\") \n",
    "test_str = test_str.translate(temp) \n",
    "\n",
    "# printing result \n",
    "print(\"The string after swap : \" + str(test_str)) \n"
   ]
  },
  {
   "cell_type": "code",
   "execution_count": 1,
   "metadata": {},
   "outputs": [
    {
     "name": "stdout",
     "output_type": "stream",
     "text": [
      "The original dictionary is : {'gfg': [5, 6, 7, 8], 'is': [10, 11, 7, 5], 'best': [6, 12, 10, 8], 'for': [1, 2, 5]}\n",
      "The unique values list is : [1, 2, 5, 6, 7, 8, 10, 11, 12]\n"
     ]
    }
   ],
   "source": [
    "# Python3 code to demonstrate working of \n",
    "# Extract Unique values dictionary values \n",
    "# Using set comprehension + values() + sorted() \n",
    "\n",
    "# initializing dictionary \n",
    "test_dict = {'gfg' : [5, 6, 7, 8], \n",
    "\t\t\t'is' : [10, 11, 7, 5], \n",
    "\t\t\t'best' : [6, 12, 10, 8], \n",
    "\t\t\t'for' : [1, 2, 5]} \n",
    "\n",
    "# printing original dictionary \n",
    "print(\"The original dictionary is : \" + str(test_dict)) \n",
    "\n",
    "# Extract Unique values dictionary values \n",
    "# Using set comprehension + values() + sorted() \n",
    "res = list(sorted({ele for val in test_dict.values() for ele in val})) \n",
    "\n",
    "# printing result \n",
    "print(\"The unique values list is : \" + str(res)) \n"
   ]
  },
  {
   "cell_type": "code",
   "execution_count": null,
   "metadata": {},
   "outputs": [],
   "source": [
    "# Python3 Program to find sum of \n",
    "# all items in a Dictionary \n",
    "\n",
    "# Function to print sum \n",
    "def returnSum(dict): \n",
    "\t\n",
    "\tsum = 0\n",
    "\tfor i in dict.values(): \n",
    "\t\tsum = sum + i \n",
    "\t\n",
    "\treturn sum\n",
    "\n",
    "# Driver Function \n",
    "dict = {'a': 100, 'b':200, 'c':300} \n",
    "print(\"Sum :\", returnSum(dict)) \n"
   ]
  },
  {
   "cell_type": "code",
   "execution_count": 3,
   "metadata": {},
   "outputs": [
    {
     "name": "stdout",
     "output_type": "stream",
     "text": [
      "The list printed sorting by age: \n",
      "[{'name': 'Nikhil', 'age': 19}, {'name': 'Nandini', 'age': 20}, {'name': 'Manjeet', 'age': 20}]\n",
      "\r\n",
      "The list printed sorting by age and name: \n",
      "[{'name': 'Nikhil', 'age': 19}, {'name': 'Manjeet', 'age': 20}, {'name': 'Nandini', 'age': 20}]\n",
      "\r\n",
      "The list printed sorting by age in descending order: \n",
      "[{'name': 'Nandini', 'age': 20}, {'name': 'Manjeet', 'age': 20}, {'name': 'Nikhil', 'age': 19}]\n"
     ]
    }
   ],
   "source": [
    "# Python code demonstrate the working of sorted() \n",
    "# and itemgetter \n",
    "\n",
    "# importing \"operator\" for implementing itemgetter \n",
    "from operator import itemgetter \n",
    "\n",
    "# Initializing list of dictionaries \n",
    "lis = [{ \"name\" : \"Nandini\", \"age\" : 20}, \n",
    "{ \"name\" : \"Manjeet\", \"age\" : 20 }, \n",
    "{ \"name\" : \"Nikhil\" , \"age\" : 19 }] \n",
    "\n",
    "# using sorted and itemgetter to print list sorted by age \n",
    "print (\"The list printed sorting by age: \")\n",
    "print (sorted(lis, key=itemgetter('age')) )\n",
    "\n",
    "print (\"\\r\") \n",
    "\n",
    "# using sorted and itemgetter to print list sorted by both age and name \n",
    "# notice that \"Manjeet\" now comes before \"Nandini\" \n",
    "print( \"The list printed sorting by age and name: \")\n",
    "print (sorted(lis, key=itemgetter('age', 'name')) )\n",
    "\n",
    "print (\"\\r\") \n",
    "\n",
    "# using sorted and itemgetter to print list sorted by age in descending order \n",
    "print (\"The list printed sorting by age in descending order: \")\n",
    "print (sorted(lis, key=itemgetter('age'),reverse = True) )\n"
   ]
  },
  {
   "cell_type": "code",
   "execution_count": null,
   "metadata": {},
   "outputs": [],
   "source": [
    "# Python code demonstrate the working of\n",
    "# sorted() with lambda\n",
    "\n",
    "# Initializing list of dictionaries\n",
    "lis = [{ \"name\" : \"Nandini\", \"age\" : 20}, \n",
    "{ \"name\" : \"Manjeet\", \"age\" : 20 },\n",
    "{ \"name\" : \"Nikhil\" , \"age\" : 19 }]\n",
    "\n",
    "# using sorted and lambda to print list sorted\n",
    "# by age \n",
    "print \"The list printed sorting by age: \"\n",
    "print sorted(lis, key = lambda i: i['age'])\n",
    "\n",
    "print (\"\\r\")\n",
    "\n",
    "# using sorted and lambda to print list sorted \n",
    "# by both age and name. Notice that \"Manjeet\"\n",
    "# now comes before \"Nandini\"\n",
    "print \"The list printed sorting by age and name: \"\n",
    "print sorted(lis, key = lambda i: (i['age'], i['name']))\n",
    "\n",
    "print (\"\\r\")\n",
    "\n",
    "# using sorted and lambda to print list sorted\n",
    "# by age in descending order\n",
    "print \"The list printed sorting by age in descending order: \"\n",
    "print sorted(lis, key = lambda i: i['age'],reverse=True)\n"
   ]
  },
  {
   "cell_type": "code",
   "execution_count": null,
   "metadata": {},
   "outputs": [],
   "source": [
    "# Python code to merge dict using update() method\n",
    "def Merge(dict1, dict2):\n",
    "\treturn(dict2.update(dict1))\n",
    "\t\n",
    "# Driver code\n",
    "dict1 = {'a': 10, 'b': 8}\n",
    "dict2 = {'d': 6, 'c': 4}\n",
    "\n",
    "# This return None\n",
    "print(Merge(dict1, dict2))\n",
    "\n",
    "# changes made in dict2\n",
    "print(dict2)\n"
   ]
  },
  {
   "cell_type": "code",
   "execution_count": null,
   "metadata": {},
   "outputs": [],
   "source": [
    "# Python3 code to demonstrate working of \n",
    "# Convert key-values list to flat dictionary \n",
    "# Using dict() + zip() \n",
    "from itertools import product \n",
    "\n",
    "# initializing dictionary \n",
    "test_dict = {'month' : [1, 2, 3], \n",
    "\t\t\t'name' : ['Jan', 'Feb', 'March']} \n",
    "\n",
    "# printing original dictionary \n",
    "print(\"The original dictionary is : \" + str(test_dict)) \n",
    "\n",
    "# Convert key-values list to flat dictionary \n",
    "# Using dict() + zip() \n",
    "res = dict(zip(test_dict['month'], test_dict['name'])) \n",
    "\n",
    "# printing result \n",
    "print(\"Flattened dictionary : \" + str(res)) \n"
   ]
  },
  {
   "cell_type": "code",
   "execution_count": null,
   "metadata": {},
   "outputs": [],
   "source": [
    "# Python code to demonstrate \n",
    "# insertion of items in beginning of ordered dict \n",
    "from collections import OrderedDict \n",
    "\n",
    "# initialising ordered_dict \n",
    "iniordered_dict = OrderedDict([('akshat', '1'), ('nikhil', '2')]) \n",
    "\n",
    "# inserting items in starting of dict \n",
    "iniordered_dict.update({'manjeet':'3'}) \n",
    "iniordered_dict.move_to_end('manjeet', last = False) \n",
    "\n",
    "# print result \n",
    "print (\"Resultant Dictionary : \"+str(iniordered_dict)) \n"
   ]
  },
  {
   "cell_type": "code",
   "execution_count": null,
   "metadata": {},
   "outputs": [],
   "source": [
    "# Python3 code to demonstrate working of \n",
    "# Append Dictionary Keys and Values ( In order ) in dictionary \n",
    "# Using values() + keys() + list() \n",
    "\n",
    "# initializing dictionary \n",
    "test_dict = {\"Gfg\" : 1, \"is\" : 3, \"Best\" : 2} \n",
    "\n",
    "# printing original dictionary \n",
    "print(\"The original dictionary is : \" + str(test_dict)) \n",
    "\n",
    "# + operator is used to perform adding keys and values \n",
    "res = list(test_dict.keys()) + list(test_dict.values()) \n",
    "\n",
    "# printing result \n",
    "print(\"The ordered keys and values : \" + str(res)) \n"
   ]
  },
  {
   "cell_type": "code",
   "execution_count": 5,
   "metadata": {},
   "outputs": [
    {
     "name": "stdout",
     "output_type": "stream",
     "text": [
      "{(10, 20, 30): 0, (5, 2, 4): 3}\n"
     ]
    }
   ],
   "source": [
    "# Python code to demonstrate a dictionary \n",
    "# with multiple inputs in a key. \n",
    "import random as rn \n",
    "\n",
    "# creating an empty dictionary \n",
    "dict = {} \n",
    "\n",
    "# Insert first triplet in dictionary \n",
    "x, y, z = 10, 20, 30\n",
    "dict[x, y, z] = x + y - z; \n",
    "\n",
    "# Insert second triplet in dictionary \n",
    "x, y, z = 5, 2, 4\n",
    "dict[x, y, z] = x + y - z; \n",
    "\n",
    "# print the dictionary \n",
    "print(dict) \n"
   ]
  },
  {
   "cell_type": "code",
   "execution_count": null,
   "metadata": {},
   "outputs": [],
   "source": [
    "# Function to return all anagrams together \n",
    "def allAnagram(input): \n",
    "\t\n",
    "\t# empty dictionary which holds subsets \n",
    "\t# of all anagrams together \n",
    "\tdict = {} \n",
    "\n",
    "\t# traverse list of strings \n",
    "\tfor strVal in input: \n",
    "\t\t\n",
    "\t\t# sorted(iterable) method accepts any \n",
    "\t\t# iterable and rerturns list of items \n",
    "\t\t# in ascending order \n",
    "\t\tkey = ''.join(sorted(strVal)) \n",
    "\t\t\n",
    "\t\t# now check if key exist in dictionary \n",
    "\t\t# or not. If yes then simply append the \n",
    "\t\t# strVal into the list of it's corresponding \n",
    "\t\t# key. If not then map empty list onto \n",
    "\t\t# key and then start appending values \n",
    "\t\tif key in dict.keys(): \n",
    "\t\t\tdict[key].append(strVal) \n",
    "\t\telse: \n",
    "\t\t\tdict[key] = [] \n",
    "\t\t\tdict[key].append(strVal) \n",
    "\n",
    "\t# traverse dictionary and concatenate values \n",
    "\t# of keys together \n",
    "\toutput = \"\" \n",
    "\tfor key,value in dict.items(): \n",
    "\t\toutput = output + ' '.join(value) + ' '\n",
    "\n",
    "\treturn output \n",
    "\n",
    "# Driver function \n",
    "if __name__ == \"__main__\": \n",
    "\tinput=['cat', 'dog', 'tac', 'god', 'act'] \n",
    "\tprint (allAnagram(input)) \n"
   ]
  },
  {
   "cell_type": "code",
   "execution_count": null,
   "metadata": {},
   "outputs": [],
   "source": [
    "# Program without using any external library \n",
    "s = \"Python is great and Java is also great\"\n",
    "l = s.split() \n",
    "k = [] \n",
    "for i in l: \n",
    "\n",
    "\t# If condition is used to store unique string \n",
    "\t# in another list 'k' \n",
    "\tif (s.count(i)>1 and (i not in k)or s.count(i)==1): \n",
    "\t\tk.append(i) \n",
    "print(' '.join(k)) \n"
   ]
  },
  {
   "cell_type": "code",
   "execution_count": null,
   "metadata": {},
   "outputs": [],
   "source": [
    "# Python program to count the frequency of \n",
    "# elements in a list using a dictionary \n",
    "\n",
    "def CountFrequency(my_list): \n",
    "\t\n",
    "# Creating an empty dictionary \n",
    "count = {} \n",
    "for i in [1, 1, 1, 5, 5, 3, 1, 3, 3, 1 ,4, 4, 4, 2, 2, 2, 2]: \n",
    "\tcount[i] = count.get(i, 0) + 1\n",
    "return count \n",
    "\n",
    "# Driver function \n",
    "if __name__ == \"__main__\": \n",
    "\tmy_list =[1, 1, 1, 5, 5, 3, 1, 3, 3, 1, 4, 4, 4, 2, 2, 2, 2] \n",
    "\tprint(CountFrequency(my_list)) \n"
   ]
  },
  {
   "cell_type": "code",
   "execution_count": null,
   "metadata": {},
   "outputs": [],
   "source": [
    "# Python3 code to demonstrate working of \n",
    "# Maximum and Minimum K elements in Tuple \n",
    "# Using slicing + sorted() \n",
    "\n",
    "# initializing tuple \n",
    "test_tup = (5, 20, 3, 7, 6, 8) \n",
    "\n",
    "# printing original tuple \n",
    "print(\"The original tuple is : \" + str(test_tup)) \n",
    "\n",
    "# initializing K \n",
    "K = 2\n",
    "\n",
    "# Maximum and Minimum K elements in Tuple \n",
    "# Using slicing + sorted() \n",
    "test_tup = list(test_tup) \n",
    "temp = sorted(test_tup) \n",
    "res = tuple(temp[:K] + temp[-K:]) \n",
    "\n",
    "# printing result \n",
    "print(\"The extracted values : \" + str(res)) \n"
   ]
  },
  {
   "cell_type": "code",
   "execution_count": null,
   "metadata": {},
   "outputs": [],
   "source": [
    "# Python program to create a list of tuples \n",
    "# from given list having number and \n",
    "# its cube in each tuple \n",
    "\n",
    "# creating a list \n",
    "list1 = [1, 2, 5, 6] \n",
    "\n",
    "# using list comprehension to iterate each \n",
    "# values in list and create a tuple as specified \n",
    "res = [(val, pow(val, 3)) for val in list1] \n",
    "\n",
    "# print the result \n",
    "print(res) \n"
   ]
  },
  {
   "cell_type": "code",
   "execution_count": null,
   "metadata": {},
   "outputs": [],
   "source": [
    "# Python3 code to demonstrate working of \n",
    "# Adding Tuple to List and vice - versa \n",
    "# Using tuple(), data type conversion [tuple + list] \n",
    "\n",
    "# initializing list \n",
    "test_list = [5, 6, 7] \n",
    "\n",
    "# printing original list \n",
    "print(\"The original list is : \" + str(test_list)) \n",
    "\n",
    "# initializing tuple \n",
    "test_tup = (9, 10) \n",
    "\n",
    "# Adding Tuple to List and vice - versa \n",
    "# Using tuple(), data type conversion [tuple + list] \n",
    "res = tuple(list(test_tup) + test_list) \n",
    "\n",
    "# printing result \n",
    "print(\"The container after addition : \" + str(res)) \n"
   ]
  },
  {
   "cell_type": "code",
   "execution_count": null,
   "metadata": {},
   "outputs": [],
   "source": []
  }
 ],
 "metadata": {
  "kernelspec": {
   "display_name": "tf-gpu",
   "language": "python",
   "name": "tf-gpu"
  },
  "language_info": {
   "codemirror_mode": {
    "name": "ipython",
    "version": 3
   },
   "file_extension": ".py",
   "mimetype": "text/x-python",
   "name": "python",
   "nbconvert_exporter": "python",
   "pygments_lexer": "ipython3",
   "version": "3.7.10"
  }
 },
 "nbformat": 4,
 "nbformat_minor": 4
}
